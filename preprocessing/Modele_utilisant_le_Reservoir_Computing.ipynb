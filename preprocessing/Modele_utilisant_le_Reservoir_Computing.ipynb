{
  "cells": [
    {
      "cell_type": "markdown",
      "id": "befa4a4d",
      "metadata": {
        "id": "befa4a4d"
      },
      "source": [
        "## _Data Challenge | DeepWater_"
      ]
    },
    {
      "cell_type": "markdown",
      "id": "3d63e817",
      "metadata": {
        "id": "3d63e817"
      },
      "source": [
        "#### Packages"
      ]
    },
    {
      "cell_type": "code",
      "source": [
        "!apt install tesseract-ocr\n",
        "!apt-get install poppler-utils\n",
        "!pip install pdf2image\n",
        "!pip install pytesseract\n",
        "!pip install opencv-python"
      ],
      "metadata": {
        "colab": {
          "base_uri": "https://localhost:8080/"
        },
        "id": "uuzgU9XZGYpt",
        "outputId": "318a73d0-a4b2-497a-e3db-c4915de88eb1"
      },
      "id": "uuzgU9XZGYpt",
      "execution_count": 3,
      "outputs": [
        {
          "output_type": "stream",
          "name": "stdout",
          "text": [
            "Reading package lists... Done\n",
            "Building dependency tree       \n",
            "Reading state information... Done\n",
            "The following additional packages will be installed:\n",
            "  tesseract-ocr-eng tesseract-ocr-osd\n",
            "The following NEW packages will be installed:\n",
            "  tesseract-ocr tesseract-ocr-eng tesseract-ocr-osd\n",
            "0 upgraded, 3 newly installed, 0 to remove and 37 not upgraded.\n",
            "Need to get 4,795 kB of archives.\n",
            "After this operation, 15.8 MB of additional disk space will be used.\n",
            "Get:1 http://archive.ubuntu.com/ubuntu bionic/universe amd64 tesseract-ocr-eng all 4.00~git24-0e00fe6-1.2 [1,588 kB]\n",
            "Get:2 http://archive.ubuntu.com/ubuntu bionic/universe amd64 tesseract-ocr-osd all 4.00~git24-0e00fe6-1.2 [2,989 kB]\n",
            "Get:3 http://archive.ubuntu.com/ubuntu bionic/universe amd64 tesseract-ocr amd64 4.00~git2288-10f4998a-2 [218 kB]\n",
            "Fetched 4,795 kB in 1s (3,720 kB/s)\n",
            "Selecting previously unselected package tesseract-ocr-eng.\n",
            "(Reading database ... 155229 files and directories currently installed.)\n",
            "Preparing to unpack .../tesseract-ocr-eng_4.00~git24-0e00fe6-1.2_all.deb ...\n",
            "Unpacking tesseract-ocr-eng (4.00~git24-0e00fe6-1.2) ...\n",
            "Selecting previously unselected package tesseract-ocr-osd.\n",
            "Preparing to unpack .../tesseract-ocr-osd_4.00~git24-0e00fe6-1.2_all.deb ...\n",
            "Unpacking tesseract-ocr-osd (4.00~git24-0e00fe6-1.2) ...\n",
            "Selecting previously unselected package tesseract-ocr.\n",
            "Preparing to unpack .../tesseract-ocr_4.00~git2288-10f4998a-2_amd64.deb ...\n",
            "Unpacking tesseract-ocr (4.00~git2288-10f4998a-2) ...\n",
            "Setting up tesseract-ocr-osd (4.00~git24-0e00fe6-1.2) ...\n",
            "Setting up tesseract-ocr-eng (4.00~git24-0e00fe6-1.2) ...\n",
            "Setting up tesseract-ocr (4.00~git2288-10f4998a-2) ...\n",
            "Processing triggers for man-db (2.8.3-2ubuntu0.1) ...\n",
            "Reading package lists... Done\n",
            "Building dependency tree       \n",
            "Reading state information... Done\n",
            "The following NEW packages will be installed:\n",
            "  poppler-utils\n",
            "0 upgraded, 1 newly installed, 0 to remove and 37 not upgraded.\n",
            "Need to get 154 kB of archives.\n",
            "After this operation, 613 kB of additional disk space will be used.\n",
            "Get:1 http://archive.ubuntu.com/ubuntu bionic-updates/main amd64 poppler-utils amd64 0.62.0-2ubuntu2.12 [154 kB]\n",
            "Fetched 154 kB in 1s (235 kB/s)\n",
            "Selecting previously unselected package poppler-utils.\n",
            "(Reading database ... 155276 files and directories currently installed.)\n",
            "Preparing to unpack .../poppler-utils_0.62.0-2ubuntu2.12_amd64.deb ...\n",
            "Unpacking poppler-utils (0.62.0-2ubuntu2.12) ...\n",
            "Setting up poppler-utils (0.62.0-2ubuntu2.12) ...\n",
            "Processing triggers for man-db (2.8.3-2ubuntu0.1) ...\n",
            "Requirement already satisfied: pdf2image in /usr/local/lib/python3.7/dist-packages (1.16.0)\n",
            "Requirement already satisfied: pillow in /usr/local/lib/python3.7/dist-packages (from pdf2image) (7.1.2)\n",
            "Collecting pytesseract\n",
            "  Downloading pytesseract-0.3.8.tar.gz (14 kB)\n",
            "Requirement already satisfied: Pillow in /usr/local/lib/python3.7/dist-packages (from pytesseract) (7.1.2)\n",
            "Building wheels for collected packages: pytesseract\n",
            "  Building wheel for pytesseract (setup.py) ... \u001b[?25l\u001b[?25hdone\n",
            "  Created wheel for pytesseract: filename=pytesseract-0.3.8-py2.py3-none-any.whl size=14070 sha256=829f71dfad12967a3ce36cfa7a4cc7910cb6b3f281096af9f9df41125547b293\n",
            "  Stored in directory: /root/.cache/pip/wheels/a4/89/b9/3f11250225d0f90e5454fcc30fd1b7208db226850715aa9ace\n",
            "Successfully built pytesseract\n",
            "Installing collected packages: pytesseract\n",
            "Successfully installed pytesseract-0.3.8\n",
            "Requirement already satisfied: opencv-python in /usr/local/lib/python3.7/dist-packages (4.1.2.30)\n",
            "Requirement already satisfied: numpy>=1.14.5 in /usr/local/lib/python3.7/dist-packages (from opencv-python) (1.19.5)\n"
          ]
        }
      ]
    },
    {
      "cell_type": "code",
      "execution_count": 51,
      "id": "6d367afa",
      "metadata": {
        "colab": {
          "base_uri": "https://localhost:8080/"
        },
        "id": "6d367afa",
        "outputId": "91db4333-5a2e-4a7c-ed8e-0c592f7767ad"
      },
      "outputs": [
        {
          "output_type": "stream",
          "name": "stdout",
          "text": [
            "[nltk_data] Downloading package stopwords to /root/nltk_data...\n",
            "[nltk_data]   Package stopwords is already up-to-date!\n",
            "[nltk_data] Downloading package wordnet to /root/nltk_data...\n",
            "[nltk_data]   Package wordnet is already up-to-date!\n"
          ]
        }
      ],
      "source": [
        "import nltk\n",
        "import re\n",
        "import sys\n",
        "import numpy as np\n",
        "from os import path\n",
        "from scipy import sparse\n",
        "import pandas as pd\n",
        "import seaborn as sns\n",
        "import xgboost as xgb\n",
        "from collections import Counter\n",
        "from nltk.tokenize import word_tokenize\n",
        "nltk.download('stopwords')\n",
        "from nltk.corpus import stopwords\n",
        "import matplotlib.pyplot as plt\n",
        "from nltk.stem.porter import PorterStemmer\n",
        "from nltk.tokenize import RegexpTokenizer\n",
        "nltk.download('wordnet') \n",
        "from sklearn.feature_extraction.text import CountVectorizer\n",
        "from nltk.stem.wordnet import WordNetLemmatizer\n",
        "from wordcloud import WordCloud, STOPWORDS, ImageColorGenerator\n",
        "from sklearn.feature_extraction.text import TfidfTransformer\n",
        "from imblearn.over_sampling import ADASYN, SMOTE\n",
        "from sklearn.preprocessing import LabelEncoder, StandardScaler, MinMaxScaler\n",
        "from sklearn.metrics import precision_score, recall_score, roc_auc_score, roc_curve, balanced_accuracy_score\n",
        "from sklearn.metrics import matthews_corrcoef, accuracy_score, classification_report, confusion_matrix, f1_score\n",
        "from sklearn.model_selection import train_test_split\n",
        "from imblearn.over_sampling import RandomOverSampler\n",
        "import numpy.linalg as linalg\n",
        "import scipy\n",
        "import time\n",
        "from sklearn.preprocessing import OneHotEncoder\n",
        "from sklearn.linear_model import Ridge, RidgeClassifier\n",
        "from sklearn.metrics import accuracy_score, f1_score\n",
        "from sklearn.decomposition import PCA\n",
        "from sklearn.svm import SVC\n",
        "from sklearn.ensemble import RandomForestClassifier\n",
        "from sklearn.neural_network import MLPClassifier\n",
        "from scipy.spatial.distance import pdist, cdist, squareform\n",
        "import pickle\n",
        "from pdf2image import convert_from_path\n",
        "import os\n",
        "import pytesseract\n",
        "import numpy as np\n",
        "import cv2 as cv\n",
        "import matplotlib.pyplot as plt\n",
        "try:\n",
        "    from PIL import Image\n",
        "except ImportError:\n",
        "    import Image\n",
        "import re\n",
        "\n",
        "from sklearn.pipeline import Pipeline\n"
      ]
    },
    {
      "cell_type": "markdown",
      "id": "37aef26d",
      "metadata": {
        "id": "37aef26d"
      },
      "source": [
        "#### Chargement des données et Aperçu"
      ]
    },
    {
      "cell_type": "code",
      "execution_count": 6,
      "id": "53607af3",
      "metadata": {
        "colab": {
          "base_uri": "https://localhost:8080/",
          "height": 206
        },
        "id": "53607af3",
        "outputId": "eea196b9-47eb-498e-eb44-1bed1c24c608"
      },
      "outputs": [
        {
          "output_type": "execute_result",
          "data": {
            "text/html": [
              "\n",
              "  <div id=\"df-e9c72e86-385d-4914-92ab-1f28589d71f6\">\n",
              "    <div class=\"colab-df-container\">\n",
              "      <div>\n",
              "<style scoped>\n",
              "    .dataframe tbody tr th:only-of-type {\n",
              "        vertical-align: middle;\n",
              "    }\n",
              "\n",
              "    .dataframe tbody tr th {\n",
              "        vertical-align: top;\n",
              "    }\n",
              "\n",
              "    .dataframe thead th {\n",
              "        text-align: right;\n",
              "    }\n",
              "</style>\n",
              "<table border=\"1\" class=\"dataframe\">\n",
              "  <thead>\n",
              "    <tr style=\"text-align: right;\">\n",
              "      <th></th>\n",
              "      <th>Text</th>\n",
              "      <th>nbcaracteres</th>\n",
              "      <th>label</th>\n",
              "    </tr>\n",
              "  </thead>\n",
              "  <tbody>\n",
              "    <tr>\n",
              "      <th>0</th>\n",
              "      <td>FORMATION PRESSURE WORKSHEET Well No. : 6305/1...</td>\n",
              "      <td>450</td>\n",
              "      <td>1</td>\n",
              "    </tr>\n",
              "    <tr>\n",
              "      <th>1</th>\n",
              "      <td>SANTOS LIMITED RCI PRESSURE SURVEY WELL: BALCA...</td>\n",
              "      <td>2330</td>\n",
              "      <td>1</td>\n",
              "    </tr>\n",
              "    <tr>\n",
              "      <th>2</th>\n",
              "      <td>-GGryoro RFT RESULTS WELL: 6407/7-—2 RUN NO. 2...</td>\n",
              "      <td>1473</td>\n",
              "      <td>1</td>\n",
              "    </tr>\n",
              "    <tr>\n",
              "      <th>3</th>\n",
              "      <td>SANTOS LIMITED FMT PRESSURE SURVEY (Field Data...</td>\n",
              "      <td>2943</td>\n",
              "      <td>1</td>\n",
              "    </tr>\n",
              "    <tr>\n",
              "      <th>4</th>\n",
              "      <td>1 Test No. 10 2 MD mRKB 2006.0 2006.2 3 TVD m...</td>\n",
              "      <td>2158</td>\n",
              "      <td>1</td>\n",
              "    </tr>\n",
              "  </tbody>\n",
              "</table>\n",
              "</div>\n",
              "      <button class=\"colab-df-convert\" onclick=\"convertToInteractive('df-e9c72e86-385d-4914-92ab-1f28589d71f6')\"\n",
              "              title=\"Convert this dataframe to an interactive table.\"\n",
              "              style=\"display:none;\">\n",
              "        \n",
              "  <svg xmlns=\"http://www.w3.org/2000/svg\" height=\"24px\"viewBox=\"0 0 24 24\"\n",
              "       width=\"24px\">\n",
              "    <path d=\"M0 0h24v24H0V0z\" fill=\"none\"/>\n",
              "    <path d=\"M18.56 5.44l.94 2.06.94-2.06 2.06-.94-2.06-.94-.94-2.06-.94 2.06-2.06.94zm-11 1L8.5 8.5l.94-2.06 2.06-.94-2.06-.94L8.5 2.5l-.94 2.06-2.06.94zm10 10l.94 2.06.94-2.06 2.06-.94-2.06-.94-.94-2.06-.94 2.06-2.06.94z\"/><path d=\"M17.41 7.96l-1.37-1.37c-.4-.4-.92-.59-1.43-.59-.52 0-1.04.2-1.43.59L10.3 9.45l-7.72 7.72c-.78.78-.78 2.05 0 2.83L4 21.41c.39.39.9.59 1.41.59.51 0 1.02-.2 1.41-.59l7.78-7.78 2.81-2.81c.8-.78.8-2.07 0-2.86zM5.41 20L4 18.59l7.72-7.72 1.47 1.35L5.41 20z\"/>\n",
              "  </svg>\n",
              "      </button>\n",
              "      \n",
              "  <style>\n",
              "    .colab-df-container {\n",
              "      display:flex;\n",
              "      flex-wrap:wrap;\n",
              "      gap: 12px;\n",
              "    }\n",
              "\n",
              "    .colab-df-convert {\n",
              "      background-color: #E8F0FE;\n",
              "      border: none;\n",
              "      border-radius: 50%;\n",
              "      cursor: pointer;\n",
              "      display: none;\n",
              "      fill: #1967D2;\n",
              "      height: 32px;\n",
              "      padding: 0 0 0 0;\n",
              "      width: 32px;\n",
              "    }\n",
              "\n",
              "    .colab-df-convert:hover {\n",
              "      background-color: #E2EBFA;\n",
              "      box-shadow: 0px 1px 2px rgba(60, 64, 67, 0.3), 0px 1px 3px 1px rgba(60, 64, 67, 0.15);\n",
              "      fill: #174EA6;\n",
              "    }\n",
              "\n",
              "    [theme=dark] .colab-df-convert {\n",
              "      background-color: #3B4455;\n",
              "      fill: #D2E3FC;\n",
              "    }\n",
              "\n",
              "    [theme=dark] .colab-df-convert:hover {\n",
              "      background-color: #434B5C;\n",
              "      box-shadow: 0px 1px 3px 1px rgba(0, 0, 0, 0.15);\n",
              "      filter: drop-shadow(0px 1px 2px rgba(0, 0, 0, 0.3));\n",
              "      fill: #FFFFFF;\n",
              "    }\n",
              "  </style>\n",
              "\n",
              "      <script>\n",
              "        const buttonEl =\n",
              "          document.querySelector('#df-e9c72e86-385d-4914-92ab-1f28589d71f6 button.colab-df-convert');\n",
              "        buttonEl.style.display =\n",
              "          google.colab.kernel.accessAllowed ? 'block' : 'none';\n",
              "\n",
              "        async function convertToInteractive(key) {\n",
              "          const element = document.querySelector('#df-e9c72e86-385d-4914-92ab-1f28589d71f6');\n",
              "          const dataTable =\n",
              "            await google.colab.kernel.invokeFunction('convertToInteractive',\n",
              "                                                     [key], {});\n",
              "          if (!dataTable) return;\n",
              "\n",
              "          const docLinkHtml = 'Like what you see? Visit the ' +\n",
              "            '<a target=\"_blank\" href=https://colab.research.google.com/notebooks/data_table.ipynb>data table notebook</a>'\n",
              "            + ' to learn more about interactive tables.';\n",
              "          element.innerHTML = '';\n",
              "          dataTable['output_type'] = 'display_data';\n",
              "          await google.colab.output.renderOutput(dataTable, element);\n",
              "          const docLink = document.createElement('div');\n",
              "          docLink.innerHTML = docLinkHtml;\n",
              "          element.appendChild(docLink);\n",
              "        }\n",
              "      </script>\n",
              "    </div>\n",
              "  </div>\n",
              "  "
            ],
            "text/plain": [
              "                                                Text  nbcaracteres  label\n",
              "0  FORMATION PRESSURE WORKSHEET Well No. : 6305/1...           450      1\n",
              "1  SANTOS LIMITED RCI PRESSURE SURVEY WELL: BALCA...          2330      1\n",
              "2  -GGryoro RFT RESULTS WELL: 6407/7-—2 RUN NO. 2...          1473      1\n",
              "3  SANTOS LIMITED FMT PRESSURE SURVEY (Field Data...          2943      1\n",
              "4   1 Test No. 10 2 MD mRKB 2006.0 2006.2 3 TVD m...          2158      1"
            ]
          },
          "metadata": {},
          "execution_count": 6
        }
      ],
      "source": [
        "df = pd.read_csv('dataset_tesseract.csv', sep = ';')\n",
        "df.head()"
      ]
    },
    {
      "cell_type": "markdown",
      "id": "556fe213",
      "metadata": {
        "id": "556fe213"
      },
      "source": [
        "#### Informations sur les données"
      ]
    },
    {
      "cell_type": "code",
      "execution_count": 7,
      "id": "a62e1bd6",
      "metadata": {
        "colab": {
          "base_uri": "https://localhost:8080/"
        },
        "id": "a62e1bd6",
        "outputId": "61b06adf-b276-430c-d772-89f80266f7a8"
      },
      "outputs": [
        {
          "output_type": "stream",
          "name": "stdout",
          "text": [
            "<class 'pandas.core.frame.DataFrame'>\n",
            "RangeIndex: 150 entries, 0 to 149\n",
            "Data columns (total 3 columns):\n",
            " #   Column        Non-Null Count  Dtype \n",
            "---  ------        --------------  ----- \n",
            " 0   Text          150 non-null    object\n",
            " 1   nbcaracteres  150 non-null    int64 \n",
            " 2   label         150 non-null    int64 \n",
            "dtypes: int64(2), object(1)\n",
            "memory usage: 3.6+ KB\n",
            "----------------------------------\n",
            "(150, 3)\n"
          ]
        }
      ],
      "source": [
        "df.info()\n",
        "print('----------------------------------')\n",
        "print(df.shape)"
      ]
    },
    {
      "cell_type": "markdown",
      "source": [
        "Nous rétirons 10 documensts du dataset pour un test final de performance"
      ],
      "metadata": {
        "id": "7tJVzXhXuci-"
      },
      "id": "7tJVzXhXuci-"
    },
    {
      "cell_type": "code",
      "source": [
        "for_test = pd.concat([df.iloc[:5,:], df.iloc[-5:,:]]).reset_index().drop(columns=[\"index\"])\n",
        "dataset = df.iloc[5:-5, :].reset_index().drop(columns=[\"index\"])"
      ],
      "metadata": {
        "id": "948rXAo4uk98"
      },
      "id": "948rXAo4uk98",
      "execution_count": 8,
      "outputs": []
    },
    {
      "cell_type": "markdown",
      "id": "2216afe7",
      "metadata": {
        "id": "2216afe7"
      },
      "source": [
        "### Prétraitement du texte | Text cleanning"
      ]
    },
    {
      "cell_type": "code",
      "execution_count": 9,
      "id": "fa4d12e9",
      "metadata": {
        "id": "fa4d12e9"
      },
      "outputs": [],
      "source": [
        "stop_words = set(stopwords.words(\"english\"))"
      ]
    },
    {
      "cell_type": "code",
      "execution_count": 10,
      "id": "512e4a7c",
      "metadata": {
        "id": "512e4a7c"
      },
      "outputs": [],
      "source": [
        "corpus = []\n",
        "for i in range(0, dataset.shape[0]):\n",
        "    # Suppression des ponctuations\n",
        "    text = re.sub('[^a-zA-Z]', ' ', dataset['Text'][i])\n",
        "    \n",
        "    # convertir en minuscule\n",
        "    text = text.lower()\n",
        "    \n",
        "    # Suppression des balises\n",
        "    text=re.sub(\"&lt;/?.*?&gt;\",\" &lt;&gt; \",text)\n",
        "    \n",
        "    # suppression des caracères spéciaux\n",
        "    text=re.sub(\"(\\\\d|\\\\W)+\",\" \",text)\n",
        "    \n",
        "    # Conversion en liste\n",
        "    text = text.split()\n",
        "    \n",
        "    # normalisation de type lammélisation (on extrait de chaque mot les expressions non régulières)\n",
        "    lem = WordNetLemmatizer()\n",
        "    text = [lem.lemmatize(word) for word in text if not word in  \n",
        "            stop_words] \n",
        "    text = \" \".join(text)\n",
        "    corpus.append(text)"
      ]
    },
    {
      "cell_type": "code",
      "execution_count": 11,
      "id": "7c4cbc7c",
      "metadata": {
        "colab": {
          "base_uri": "https://localhost:8080/",
          "height": 87
        },
        "id": "7c4cbc7c",
        "outputId": "7c05faf2-3ed0-4ca8-f77b-810e1581d8d1"
      },
      "outputs": [
        {
          "output_type": "execute_result",
          "data": {
            "application/vnd.google.colaboratory.intrinsic+json": {
              "type": "string"
            },
            "text/plain": [
              "'b schlumberger rft tool table depth hydrostatic formation comment final form rkb psi psi seal tight tight increas tight retract tight increas seal failure tight press seal failure seal failure tight press good perm good perm good perm good perm low fair perm tight seal failure tight press seal failure tight tight increas o tight increas'"
            ]
          },
          "metadata": {},
          "execution_count": 11
        }
      ],
      "source": [
        "corpus[11]"
      ]
    },
    {
      "cell_type": "markdown",
      "id": "d1b14960",
      "metadata": {
        "id": "d1b14960"
      },
      "source": [
        "### Text Preparation\n",
        "\n",
        "- La tokenisation est le processus de conversion du texte continu en une liste de mots.\n",
        "\n",
        "\n",
        "\n",
        "- La vectorisation, appelée extraction de caractéristiques convertie la liste de mots en une matrice d'entiers par le processus de vectorisation.\n",
        "\n",
        "\n",
        "#### Important\n",
        "\n",
        "\n",
        "Je ne considère pas les séquences de mots, mais plutot la fréquence des mots."
      ]
    },
    {
      "cell_type": "markdown",
      "id": "593c3b1b",
      "metadata": {
        "id": "593c3b1b"
      },
      "source": [
        "##### Paramètres de la fonction\n",
        "\n",
        "- max_df : Lors de la construction du vocabulaire, ignorez les termes qui ont une fréquence strictement supérieure au seuil donné dans le corpus. Cela permet de s'assurer que nous n'avons que des mots pertinents pour le contexte et non des mots couramment utilisés.\n",
        "\n",
        "\n",
        "\n",
        "\n",
        "- max_features: détermine le nombre de colonnes dans la matrice.\n",
        "\n",
        "\n",
        "\n",
        "- n-gram_range : nous voudrions regarder une liste de mots simples, deux mots (bi-grammes) et trois mots (tri-grammes) combinaisons."
      ]
    },
    {
      "cell_type": "code",
      "source": [
        "len(corpus)"
      ],
      "metadata": {
        "colab": {
          "base_uri": "https://localhost:8080/"
        },
        "id": "W_nh1ATAIhl0",
        "outputId": "ffc020a0-bc25-45b0-ff45-14018053ea2f"
      },
      "id": "W_nh1ATAIhl0",
      "execution_count": 65,
      "outputs": [
        {
          "output_type": "execute_result",
          "data": {
            "text/plain": [
              "140"
            ]
          },
          "metadata": {},
          "execution_count": 65
        }
      ]
    },
    {
      "cell_type": "code",
      "execution_count": 63,
      "id": "4c1c621f",
      "metadata": {
        "id": "4c1c621f",
        "colab": {
          "base_uri": "https://localhost:8080/"
        },
        "outputId": "39031510-89c0-4af6-e528-c243218d7707"
      },
      "outputs": [
        {
          "output_type": "execute_result",
          "data": {
            "text/plain": [
              "(140, 60)"
            ]
          },
          "metadata": {},
          "execution_count": 63
        }
      ],
      "source": [
        "cv = CountVectorizer(max_df = 0.8, stop_words = stop_words, max_features = 60, ngram_range = (1,3))\n",
        "X = cv.fit_transform(corpus)"
      ]
    },
    {
      "cell_type": "code",
      "source": [
        "with open(\"CountVectorizer\", \"wb\") as f:\n",
        "    pickle.dump(cv, f)"
      ],
      "metadata": {
        "id": "bC37SNopHPyT"
      },
      "id": "bC37SNopHPyT",
      "execution_count": 15,
      "outputs": []
    },
    {
      "cell_type": "code",
      "execution_count": 16,
      "id": "e94411fa",
      "metadata": {
        "colab": {
          "base_uri": "https://localhost:8080/"
        },
        "id": "e94411fa",
        "outputId": "2e5b746f-b1bf-4a87-cd6d-a299697b5364"
      },
      "outputs": [
        {
          "output_type": "stream",
          "name": "stdout",
          "text": [
            "['date', 'run', 'hole', 'rkb', 'valid', 'good', 'permeability', 'seal', 'tight', 'well', 'rft', 'result', 'fm', 'pressure', 'gauge', 'psia', 'sample', 'test', 'type', 'page', 'formation', 'depth', 'md', 'drawdown', 'time', 'min', 'psi', 'gr', 'correlation', 'patchawarra', 'normal', 'rapid', 'slow', 'curtailed', 'psia psia', 'water', 'gradient', 'table', 'mud', 'ee', 'sand', 'ft', 'mrkb', 'perm', 'stepper', 'repeat', 'lost', 'summary', 'good test', 'hr', 'log', 'virgin', 'point', 'virgin good', 'virgin good test', 'interval', 'logging', 'core', 'cnl', 'group']\n"
          ]
        }
      ],
      "source": [
        "print(list(cv.vocabulary_.keys()))"
      ]
    },
    {
      "cell_type": "markdown",
      "id": "6761b54d",
      "metadata": {
        "id": "6761b54d"
      },
      "source": [
        "### Visualisation des tops occurence de mots (uni, bi et tri)"
      ]
    },
    {
      "cell_type": "code",
      "execution_count": 17,
      "id": "3b7ebd09",
      "metadata": {
        "colab": {
          "base_uri": "https://localhost:8080/",
          "height": 536
        },
        "id": "3b7ebd09",
        "outputId": "53bcac08-77de-416b-c93a-329310c70364"
      },
      "outputs": [
        {
          "output_type": "display_data",
          "data": {
            "image/png": "[encoded data removed]",
            "text/plain": [
              "<Figure size 936x576 with 1 Axes>"
            ]
          },
          "metadata": {}
        }
      ],
      "source": [
        "#Most frequently occuring words\n",
        "def get_top_n_words(corpus, n=None):\n",
        "    vec = CountVectorizer().fit(corpus)\n",
        "    bag_of_words = vec.transform(corpus)\n",
        "    sum_words = bag_of_words.sum(axis=0) \n",
        "    words_freq = [(word, sum_words[0, idx]) for word, idx in      \n",
        "                   vec.vocabulary_.items()]\n",
        "    words_freq =sorted(words_freq, key = lambda x: x[1], \n",
        "                       reverse=True)\n",
        "    return words_freq[:n]\n",
        "#Convert most freq words to dataframe for plotting bar plot\n",
        "top_words = get_top_n_words(corpus, n=20)\n",
        "top_df = pd.DataFrame(top_words)\n",
        "top_df.columns=[\"Word\", \"Freq\"]\n",
        "# print(top_df)\n",
        "#Barplot of most freq words\n",
        "import seaborn as sns\n",
        "sns.set(rc={'figure.figsize':(13,8)})\n",
        "g = sns.barplot(x=\"Word\", y=\"Freq\", data=top_df)\n",
        "g.set_xticklabels(g.get_xticklabels(), rotation=30);"
      ]
    },
    {
      "cell_type": "code",
      "execution_count": 18,
      "id": "978bb810",
      "metadata": {
        "colab": {
          "base_uri": "https://localhost:8080/",
          "height": 611
        },
        "id": "978bb810",
        "outputId": "0a7e0a24-cfa9-474b-cb94-ffc897153900"
      },
      "outputs": [
        {
          "output_type": "display_data",
          "data": {
            "image/png": "[encoded data removed]",
            "text/plain": [
              "<Figure size 936x576 with 1 Axes>"
            ]
          },
          "metadata": {}
        }
      ],
      "source": [
        "#Most frequently occuring Bi-grams\n",
        "def get_top_n2_words(corpus, n=None):\n",
        "    vec1 = CountVectorizer(ngram_range=(2,2),  \n",
        "            max_features=2000).fit(corpus)\n",
        "    bag_of_words = vec1.transform(corpus)\n",
        "    sum_words = bag_of_words.sum(axis=0) \n",
        "    words_freq = [(word, sum_words[0, idx]) for word, idx in     \n",
        "                  vec1.vocabulary_.items()]\n",
        "    words_freq =sorted(words_freq, key = lambda x: x[1], \n",
        "                reverse=True)\n",
        "    return words_freq[:n]\n",
        "top2_words = get_top_n2_words(corpus, n=20)\n",
        "top2_df = pd.DataFrame(top2_words)\n",
        "top2_df.columns=[\"Bi-gram\", \"Freq\"]\n",
        "# print(top2_df)\n",
        "#Barplot of most freq Bi-grams\n",
        "import seaborn as sns\n",
        "sns.set(rc={'figure.figsize':(13,8)})\n",
        "h=sns.barplot(x=\"Bi-gram\", y=\"Freq\", data=top2_df)\n",
        "h.set_xticklabels(h.get_xticklabels(), rotation=75);"
      ]
    },
    {
      "cell_type": "code",
      "execution_count": 19,
      "id": "d8b6a751",
      "metadata": {
        "id": "d8b6a751"
      },
      "outputs": [],
      "source": [
        "# Conversion de la matrice en entier\n",
        "# tfidf_transformer = TfidfTransformer(smooth_idf = True,use_idf = True)\n",
        "# tfidf_transformer.fit(X)\n",
        "# get feature names\n",
        "# feature_names = cv.get_feature_names_out()\n",
        "# feature_names"
      ]
    },
    {
      "cell_type": "code",
      "execution_count": 20,
      "id": "b0838527",
      "metadata": {
        "id": "b0838527"
      },
      "outputs": [],
      "source": [
        "X1 = sparse.csr_matrix.toarray(X)"
      ]
    },
    {
      "cell_type": "code",
      "execution_count": 21,
      "id": "a294298f",
      "metadata": {
        "colab": {
          "base_uri": "https://localhost:8080/"
        },
        "id": "a294298f",
        "outputId": "e62b20e5-3b4b-444d-9f73-e49518ed1e21"
      },
      "outputs": [
        {
          "output_type": "execute_result",
          "data": {
            "text/plain": [
              "array([[0, 0, 0, ..., 0, 0, 0],\n",
              "       [0, 0, 0, ..., 0, 0, 1],\n",
              "       [0, 0, 4, ..., 0, 0, 2],\n",
              "       ...,\n",
              "       [0, 3, 0, ..., 0, 6, 3],\n",
              "       [0, 0, 0, ..., 0, 0, 1],\n",
              "       [0, 0, 0, ..., 0, 0, 0]])"
            ]
          },
          "metadata": {},
          "execution_count": 21
        }
      ],
      "source": [
        "X1"
      ]
    },
    {
      "cell_type": "code",
      "execution_count": 22,
      "id": "77edad2b",
      "metadata": {
        "id": "77edad2b"
      },
      "outputs": [],
      "source": [
        "input_val = pd.DataFrame(X1)"
      ]
    },
    {
      "cell_type": "code",
      "execution_count": 23,
      "id": "042784c4",
      "metadata": {
        "id": "042784c4"
      },
      "outputs": [],
      "source": [
        "Y = dataset.iloc[:,2]"
      ]
    },
    {
      "cell_type": "code",
      "execution_count": 24,
      "id": "3f8e674a",
      "metadata": {
        "colab": {
          "base_uri": "https://localhost:8080/"
        },
        "id": "3f8e674a",
        "outputId": "77374208-9f75-4e77-c3a7-35ad8e4ff4d2"
      },
      "outputs": [
        {
          "output_type": "execute_result",
          "data": {
            "text/plain": [
              "0      1\n",
              "1      1\n",
              "2      1\n",
              "3      1\n",
              "4      1\n",
              "      ..\n",
              "135    0\n",
              "136    0\n",
              "137    0\n",
              "138    0\n",
              "139    0\n",
              "Name: label, Length: 140, dtype: int64"
            ]
          },
          "metadata": {},
          "execution_count": 24
        }
      ],
      "source": [
        "Y"
      ]
    },
    {
      "cell_type": "markdown",
      "source": [
        "### Oversampling des données"
      ],
      "metadata": {
        "id": "_Chn8zJaLlok"
      },
      "id": "_Chn8zJaLlok"
    },
    {
      "cell_type": "code",
      "source": [
        "oversample = RandomOverSampler(sampling_strategy='minority')\n",
        "X_over, y_over = oversample.fit_resample(input_val, Y)"
      ],
      "metadata": {
        "id": "YNYGZy65K7yp"
      },
      "id": "YNYGZy65K7yp",
      "execution_count": 25,
      "outputs": []
    },
    {
      "cell_type": "code",
      "source": [
        "X_over.shape"
      ],
      "metadata": {
        "colab": {
          "base_uri": "https://localhost:8080/"
        },
        "id": "8qJczH6RMH_-",
        "outputId": "4ff655c8-2de9-4c9e-fd3c-8920f9b2ce09"
      },
      "id": "8qJczH6RMH_-",
      "execution_count": 26,
      "outputs": [
        {
          "output_type": "execute_result",
          "data": {
            "text/plain": [
              "(190, 60)"
            ]
          },
          "metadata": {},
          "execution_count": 26
        }
      ]
    },
    {
      "cell_type": "code",
      "source": [
        "y_over.shape"
      ],
      "metadata": {
        "colab": {
          "base_uri": "https://localhost:8080/"
        },
        "id": "ULmQRLGQMOIz",
        "outputId": "c3ced45d-37a5-4e8f-e3fc-7ffb839d2307"
      },
      "id": "ULmQRLGQMOIz",
      "execution_count": 27,
      "outputs": [
        {
          "output_type": "execute_result",
          "data": {
            "text/plain": [
              "(190,)"
            ]
          },
          "metadata": {},
          "execution_count": 27
        }
      ]
    },
    {
      "cell_type": "code",
      "execution_count": 28,
      "id": "2ab4e9a7",
      "metadata": {
        "colab": {
          "base_uri": "https://localhost:8080/"
        },
        "id": "2ab4e9a7",
        "outputId": "b3f0aa19-112d-4305-b262-0f4668b8ab7e"
      },
      "outputs": [
        {
          "output_type": "stream",
          "name": "stdout",
          "text": [
            "(152, 60) (38, 60) (152,) (38,)\n"
          ]
        }
      ],
      "source": [
        "X_train1,X_test1,Y_train1,Y_test1 = train_test_split(X_over, y_over,test_size = 0.20)\n",
        "print(X_train1.shape,X_test1.shape,Y_train1.shape,Y_test1.shape)"
      ]
    },
    {
      "cell_type": "markdown",
      "source": [
        "## Modèle hybride combinant Reservoir et modèle de ML"
      ],
      "metadata": {
        "id": "L8UMfZmscp6V"
      },
      "id": "L8UMfZmscp6V"
    },
    {
      "cell_type": "code",
      "source": [
        "class Reservoir(object):\n",
        "    \"\"\"\n",
        "    Build a reservoir and evaluate internal states\n",
        "    \n",
        "    Parameters:\n",
        "        n_internal_units = processing units in the reservoir\n",
        "        spectral_radius = largest eigenvalue of the reservoir matrix of connection weights\n",
        "        leak = amount of leakage in the reservoir state update (optional)\n",
        "        connectivity = percentage of nonzero connection weights (unused in circle reservoir)\n",
        "        input_scaling = scaling of the input connection weights\n",
        "        noise_level = deviation of the Gaussian noise injected in the state update\n",
        "        circle = generate determinisitc reservoir with circle topology\n",
        "    \"\"\"\n",
        "    \n",
        "    def __init__(self, n_internal_units=100, spectral_radius=0.99, leak=None,\n",
        "                 connectivity=0.3, input_scaling=0.2, noise_level=0.01, circle=False):\n",
        "        \n",
        "        # Initialize attributes\n",
        "        self._n_internal_units = n_internal_units\n",
        "        self._input_scaling = input_scaling\n",
        "        self._noise_level = noise_level\n",
        "        self._leak = leak\n",
        "\n",
        "        # Input weights depend on input size: they are set when data is provided\n",
        "        self._input_weights = None\n",
        "\n",
        "        # Generate internal weights\n",
        "        if circle:\n",
        "            self._internal_weights = self._initialize_internal_weights_Circ(\n",
        "                    n_internal_units,\n",
        "                    spectral_radius)\n",
        "        else:\n",
        "            self._internal_weights = self._initialize_internal_weights(\n",
        "                n_internal_units,\n",
        "                connectivity,\n",
        "                spectral_radius)\n",
        "\n",
        "\n",
        "    def _initialize_internal_weights_Circ(self, n_internal_units, spectral_radius):\n",
        "        \n",
        "        # Construct reservoir with circular topology\n",
        "        internal_weights = np.zeros((n_internal_units, n_internal_units))\n",
        "        internal_weights[0,-1] = 1.0\n",
        "        for i in range(n_internal_units-1):\n",
        "            internal_weights[i+1,i] = 1.0\n",
        "            \n",
        "        # Adjust the spectral radius.\n",
        "        E, _ = np.linalg.eig(internal_weights)\n",
        "        e_max = np.max(np.abs(E))\n",
        "        internal_weights /= np.abs(e_max)/spectral_radius \n",
        "                \n",
        "        return internal_weights\n",
        "    \n",
        "    \n",
        "    def _initialize_internal_weights(self, n_internal_units,\n",
        "                                     connectivity, spectral_radius):\n",
        "\n",
        "        # Generate sparse, uniformly distributed weights.\n",
        "        internal_weights = sparse.rand(n_internal_units,\n",
        "                                       n_internal_units,\n",
        "                                       density=connectivity).todense()\n",
        "\n",
        "        # Ensure that the nonzero values are uniformly distributed in [-0.5, 0.5]\n",
        "        internal_weights[np.where(internal_weights > 0)] -= 0.5\n",
        "        \n",
        "        # Adjust the spectral radius.\n",
        "        E, _ = np.linalg.eig(internal_weights)\n",
        "        e_max = np.max(np.abs(E))\n",
        "        internal_weights /= np.abs(e_max)/spectral_radius       \n",
        "\n",
        "        return internal_weights\n",
        "\n",
        "\n",
        "    def _compute_state_matrix(self, X, n_drop=0):\n",
        "        N, T, _ = X.shape\n",
        "        previous_state = np.zeros((N, self._n_internal_units), dtype=float)\n",
        "\n",
        "        # Storage\n",
        "        state_matrix = np.empty((N, T - n_drop, self._n_internal_units), dtype=float)\n",
        "\n",
        "        for t in range(T):\n",
        "            current_input = X[:, t, :]\n",
        "\n",
        "            # Calculate state\n",
        "            state_before_tanh = self._internal_weights.dot(previous_state.T) + self._input_weights.dot(current_input.T)\n",
        "\n",
        "            # Add noise\n",
        "            state_before_tanh += np.random.rand(self._n_internal_units, N)*self._noise_level\n",
        "\n",
        "            # Apply nonlinearity and leakage (optional)\n",
        "            if self._leak is None:\n",
        "                previous_state = np.tanh(state_before_tanh).T\n",
        "            else:\n",
        "                previous_state = (1.0 - self._leak)*previous_state + np.tanh(state_before_tanh).T\n",
        "\n",
        "            # Store everything after the dropout period\n",
        "            if (t > n_drop - 1):\n",
        "                state_matrix[:, t - n_drop, :] = previous_state\n",
        "\n",
        "        return state_matrix\n",
        "\n",
        "\n",
        "    def get_states(self, X, n_drop=0, bidir=True):\n",
        "        N, T, V = X.shape\n",
        "        if self._input_weights is None:\n",
        "            self._input_weights = (2.0*np.random.binomial(1, 0.5 , [self._n_internal_units, V]) - 1.0)*self._input_scaling\n",
        "\n",
        "        # compute sequence of reservoir states\n",
        "        states = self._compute_state_matrix(X, n_drop)\n",
        "    \n",
        "        # reservoir states on time reversed input\n",
        "        if bidir is True:\n",
        "            X_r = X[:, ::-1, :]\n",
        "            states_r = self._compute_state_matrix(X_r, n_drop)\n",
        "            states = np.concatenate((states, states_r), axis=2)\n",
        "\n",
        "        return states\n"
      ],
      "metadata": {
        "id": "QtKEN-jFeFY4"
      },
      "id": "QtKEN-jFeFY4",
      "execution_count": 75,
      "outputs": []
    },
    {
      "cell_type": "code",
      "source": [
        "class tensorPCA:\n",
        "    \n",
        "    def __init__(self, n_components):\n",
        "        self.n_components=n_components\n",
        "        self.first_eigs = None\n",
        "        \n",
        "    def fit(self, X): # X has shape [N,T,V]\n",
        "        \n",
        "        if len(X.shape) is not 3:\n",
        "            raise RuntimeError('Input must be a 3d tensor')\n",
        "        \n",
        "        Xt = np.swapaxes(X,1,2)  # [N,T,V] --> [N,V,T]\n",
        "        Xm = np.expand_dims(np.mean(X, axis=0), axis=0) # mean sample\n",
        "        Xmt = np.swapaxes(Xm,1,2)\n",
        "        \n",
        "        C = np.tensordot(X-Xm,Xt-Xmt,axes=([1,0],[2,0])) / (X.shape[0]-1) # covariance of 0-mode slices\n",
        "        \n",
        "        # sort eigenvalues of covariance matrix\n",
        "        eigenValues, eigenVectors = linalg.eig(C)\n",
        "        idx = eigenValues.argsort()[::-1]   \n",
        "        eigenVectors = eigenVectors[:,idx]\n",
        "        \n",
        "        self.first_eigs = eigenVectors[:,:self.n_components]\n",
        "        \n",
        "        \n",
        "    def transform(self, X):\n",
        "        return np.einsum('klj,ji->kli',X,self.first_eigs)\n",
        "    \n",
        "    def fit_transform(self, X):\n",
        "        self.fit(X)\n",
        "        return self.transform(X)\n"
      ],
      "metadata": {
        "id": "O0RuLg9yeJZr"
      },
      "id": "O0RuLg9yeJZr",
      "execution_count": 76,
      "outputs": []
    },
    {
      "cell_type": "code",
      "source": [
        "def compute_test_scores(pred_class, Yte):\n",
        "    \"\"\"\n",
        "    Wrapper to compute classification accuracy and F1 score\n",
        "    \"\"\"\n",
        "    \n",
        "    true_class = np.argmax(Yte, axis=1)\n",
        "    \n",
        "    accuracy = accuracy_score(true_class, pred_class)\n",
        "    if Yte.shape[1] > 2:\n",
        "        f1 = f1_score(true_class, pred_class, average='weighted')\n",
        "    else:\n",
        "        f1 = f1_score(true_class, pred_class, average='binary')\n",
        "\n",
        "    return accuracy, f1\n",
        "\n",
        "            \n",
        "class RC_model(object):\n",
        "    \n",
        "    def __init__(self,\n",
        "              # reservoir\n",
        "              reservoir=None,     \n",
        "              n_internal_units=None,\n",
        "              spectral_radius=None,\n",
        "              leak=None,\n",
        "              connectivity=None,\n",
        "              input_scaling=None,\n",
        "              noise_level=None,\n",
        "              n_drop=None,\n",
        "              bidir=False,\n",
        "              circle=False,\n",
        "              # dim red\n",
        "              dimred_method=None, \n",
        "              n_dim=None,\n",
        "              # representation\n",
        "              mts_rep=None,\n",
        "              w_ridge_embedding=None,\n",
        "              # readout\n",
        "              readout_type=None,               \n",
        "              w_ridge=None,              \n",
        "              mlp_layout=None,\n",
        "              num_epochs=None,\n",
        "              w_l2=None,\n",
        "              nonlinearity=None, \n",
        "              svm_gamma=1.0,\n",
        "              svm_C=1.0,\n",
        "              rdf_n_estimators=100,\n",
        "              rdf_criterion='gini',\n",
        "              rdf_max_depth=None\n",
        "              ):\n",
        "        \"\"\"\n",
        "        Build and evaluate a RC-based classifier.\n",
        "        The training and test MTS are multidimensional arrays of shape [N,T,V], with\n",
        "            - N = number of samples\n",
        "            - T = number of time steps in each sample\n",
        "            - V = number of variables in each sample\n",
        "        Training and test labels have shape [N,C], with C the number of classes\n",
        "        \n",
        "        The dataset consists of:\n",
        "            X, Y = training data and respective labels\n",
        "            Xte, Yte = test data and respective labels\n",
        "            \n",
        "        Reservoir parameters:\n",
        "            reservoir = precomputed reservoir (oject of class 'Reservoir');\n",
        "                if None, the following structural hyperparameters must be specified\n",
        "            n_internal_units = processing units in the reservoir\n",
        "            spectral_radius = largest eigenvalue of the reservoir matrix of connection weights\n",
        "            leak = amount of leakage in the reservoir state update (optional)\n",
        "            connectivity = percentage of nonzero connection weights\n",
        "            input_scaling = scaling of the input connection weights\n",
        "            noise_level = deviation of the Gaussian noise injected in the state update\n",
        "            n_drop = number of transient states to drop\n",
        "            bidir = use a bidirectional reservoir (True or false)\n",
        "                \n",
        "        Dimensionality reduction parameters:\n",
        "            dimred_method = procedure for reducing the number of features in the sequence of reservoir states;\n",
        "                possible options are: None (no dimensionality reduction), 'pca' or 'tenpca'\n",
        "            n_dim = number of resulting dimensions after the dimensionality reduction procedure\n",
        "            \n",
        "        Representation parameters:\n",
        "            mts_rep = type of MTS representation. It can be 'last' (last state), 'output' (output model space),\n",
        "                or 'reservoir' (reservoir model space)\n",
        "            w_ridge_embedding = regularization parameter of the ridge regression in the output model space\n",
        "                and reservoir model space representation; ignored if mts_rep == None\n",
        "            \n",
        "        Readout parameters:\n",
        "            readout_type = type of readout used for classification. It can be 'lin' (ridge regression), \n",
        "                'mlp' (multiplayer perceptron), 'svm' (support vector machine), or None.\n",
        "                If None, the input representations will be saved instead: this is useful for clustering and visualization.\n",
        "            w_ridge = regularization parameter of the ridge regression readout (only for readout_type=='lin')              \n",
        "            mlp_layout = tuple with the sizes of MLP layers, e.g. (20, 10) defines a MLP with 2 layers \n",
        "                of 20 and 10 units respectively. (only for readout_type=='mlp')\n",
        "            num_epochs = number of iterations during the optimization (only for readout_type=='mlp')\n",
        "            w_l2 = weight of the L2 regularization (only for readout_type=='mlp')\n",
        "            nonlinearity = type of activation function {'relu', 'tanh', 'logistic', 'identity'} (only for readout_type=='mlp')\n",
        "            svm_gamma = bandwith of the RBF kernel (only for readout_type=='svm')\n",
        "            svm_C = regularization for SVM hyperplane (only for readout_type=='svm')\n",
        "            rdf_n_estimators = The number of trees in the forest (only for readout_type=='rdf')\n",
        "            rdf_criterion = The function to measure the quality of a split (only for readout_type=='rdf')\n",
        "            rdf_max_depth = The maximum depth of the tree (only for readout_type=='rdf')\n",
        "        \"\"\"\n",
        "        self.n_drop=n_drop\n",
        "        self.bidir=bidir\n",
        "        self.dimred_method=dimred_method\n",
        "        self.mts_rep=mts_rep\n",
        "        self.readout_type=readout_type\n",
        "        self.svm_gamma=svm_gamma\n",
        "                        \n",
        "        # Initialize reservoir\n",
        "        if reservoir is None:\n",
        "            self._reservoir = Reservoir(n_internal_units=n_internal_units,\n",
        "                                  spectral_radius=spectral_radius,\n",
        "                                  leak=leak,\n",
        "                                  connectivity=connectivity,\n",
        "                                  input_scaling=input_scaling,\n",
        "                                  noise_level=noise_level,\n",
        "                                  circle=circle)\n",
        "        else:\n",
        "            self._reservoir = reservoir\n",
        "                \n",
        "        # Initialize dimensionality reduction method\n",
        "        if dimred_method is not None:\n",
        "            if dimred_method.lower() == 'pca':\n",
        "                self._dim_red = PCA(n_components=n_dim)            \n",
        "            elif dimred_method.lower() == 'tenpca':\n",
        "                self._dim_red = tensorPCA(n_components=n_dim)\n",
        "            else:\n",
        "                raise RuntimeError('Invalid dimred method ID')\n",
        "                \n",
        "        # Initialize ridge regression model\n",
        "        if mts_rep=='output' or mts_rep=='reservoir':\n",
        "            self._ridge_embedding = Ridge(alpha=w_ridge_embedding, fit_intercept=True)\n",
        "                        \n",
        "        # Initialize readout type            \n",
        "        if self.readout_type is not None:\n",
        "            \n",
        "            if self.readout_type == 'lin': # Ridge regression\n",
        "                self.readout = Ridge(alpha=w_ridge)        \n",
        "            elif self.readout_type == 'svm': # SVM readout\n",
        "                self.readout = SVC(C=svm_C, kernel='precomputed')\n",
        "            elif self.readout_type == 'rdf': # RandomForest readout\n",
        "                self.readout = RandomForestClassifier(rdf_n_estimators, criterion=rdf_criterion, max_depth=rdf_max_depth)          \n",
        "            elif readout_type == 'mlp': # MLP (deep readout)  \n",
        "                # pass\n",
        "                self.readout = MLPClassifier(\n",
        "                    hidden_layer_sizes=mlp_layout, \n",
        "                    activation=nonlinearity, \n",
        "                    alpha=w_l2,\n",
        "                    batch_size=32, \n",
        "                    learning_rate='adaptive', # 'constant' or 'adaptive'\n",
        "                    learning_rate_init=0.001, \n",
        "                    max_iter=num_epochs, \n",
        "                    early_stopping=False, # if True, set validation_fraction > 0\n",
        "                    validation_fraction=0.0 # used for early stopping\n",
        "                    )\n",
        "            else:\n",
        "                raise RuntimeError('Invalid readout type')  \n",
        "        \n",
        "        \n",
        "    def train(self, X, Y=None):\n",
        "        \n",
        "        time_start = time.time()\n",
        "        \n",
        "        # ============ Compute reservoir states ============ \n",
        "        res_states = self._reservoir.get_states(X, n_drop=self.n_drop, bidir=self.bidir)\n",
        "        \n",
        "        # ============ Dimensionality reduction of the reservoir states ============  \n",
        "        if self.dimred_method.lower() == 'pca':\n",
        "            # matricize\n",
        "            N_samples = res_states.shape[0]\n",
        "            res_states = res_states.reshape(-1, res_states.shape[2])                   \n",
        "            # ..transform..\n",
        "            red_states = self._dim_red.fit_transform(res_states)          \n",
        "            # ..and put back in tensor form\n",
        "            red_states = red_states.reshape(N_samples,-1,red_states.shape[1])          \n",
        "        elif self.dimred_method.lower() == 'tenpca':\n",
        "            red_states = self._dim_red.fit_transform(res_states)       \n",
        "        else: # Skip dimensionality reduction\n",
        "            red_states = res_states\n",
        "\n",
        "        # ============ Generate representation of the MTS ============\n",
        "        coeff_tr = []\n",
        "        biases_tr = []   \n",
        "        \n",
        "        # Output model space representation\n",
        "        if self.mts_rep=='output':\n",
        "            if self.bidir:\n",
        "                X = np.concatenate((X,X[:, ::-1, :]),axis=2)                \n",
        "                \n",
        "            for i in range(X.shape[0]):\n",
        "                self._ridge_embedding.fit(red_states[i, 0:-1, :], X[i, self.n_drop+1:, :])\n",
        "                coeff_tr.append(self._ridge_embedding.coef_.ravel())\n",
        "                biases_tr.append(self._ridge_embedding.intercept_.ravel())\n",
        "            input_repr = np.concatenate((np.vstack(coeff_tr), np.vstack(biases_tr)), axis=1)\n",
        "            \n",
        "        # Reservoir model space representation\n",
        "        elif self.mts_rep=='reservoir':\n",
        "            for i in range(X.shape[0]):\n",
        "                self._ridge_embedding.fit(red_states[i, 0:-1, :], red_states[i, 1:, :])\n",
        "                coeff_tr.append(self._ridge_embedding.coef_.ravel())\n",
        "                biases_tr.append(self._ridge_embedding.intercept_.ravel())\n",
        "            input_repr = np.concatenate((np.vstack(coeff_tr), np.vstack(biases_tr)), axis=1)\n",
        "        \n",
        "        # Last state representation        \n",
        "        elif self.mts_rep=='last':\n",
        "            input_repr = red_states[:, -1, :]\n",
        "            \n",
        "        # Mean state representation        \n",
        "        elif self.mts_rep=='mean':\n",
        "            input_repr = np.mean(red_states, axis=1)\n",
        "            \n",
        "        else:\n",
        "            raise RuntimeError('Invalid representation ID')            \n",
        "            \n",
        "        # ============ Apply readout ============\n",
        "        if self.readout_type == None: # Just store the input representations\n",
        "            self.input_repr = input_repr\n",
        "            \n",
        "        elif self.readout_type == 'lin': # Ridge regression\n",
        "            self.readout.fit(input_repr, Y)          \n",
        "            \n",
        "        elif self.readout_type == 'svm': # SVM readout\n",
        "            Ktr = squareform(pdist(input_repr, metric='sqeuclidean')) \n",
        "            Ktr = np.exp(-self.svm_gamma*Ktr)\n",
        "            self.readout.fit(Ktr, np.argmax(Y,axis=1))\n",
        "            self.input_repr_tr = input_repr # store them to build test kernel\n",
        "        \n",
        "        elif self.readout_type == 'rdf': # Random Forest\n",
        "            self.readout.fit(input_repr, np.argmax(Y,axis=1))\n",
        "\n",
        "        elif self.readout_type == 'mlp': # MLP (deep readout)\n",
        "            self.readout.fit(input_repr, Y)\n",
        "                        \n",
        "        tot_time = (time.time()-time_start)/60\n",
        "        return tot_time\n",
        "\n",
        "            \n",
        "    def test(self, Xte, Yte):\n",
        "\n",
        "        # ============ Compute reservoir states ============\n",
        "        res_states_te = self._reservoir.get_states(Xte, n_drop=self.n_drop, bidir=self.bidir) \n",
        "        \n",
        "        # ============ Dimensionality reduction of the reservoir states ============ \n",
        "        if self.dimred_method.lower() == 'pca':\n",
        "            # matricize\n",
        "            N_samples_te = res_states_te.shape[0]\n",
        "            res_states_te = res_states_te.reshape(-1, res_states_te.shape[2])                    \n",
        "            # ..transform..\n",
        "            red_states_te = self._dim_red.transform(res_states_te)            \n",
        "            # ..and put back in tensor form\n",
        "            red_states_te = red_states_te.reshape(N_samples_te,-1,red_states_te.shape[1])            \n",
        "        elif self.dimred_method.lower() == 'tenpca':\n",
        "            red_states_te = self._dim_red.transform(res_states_te)        \n",
        "        else: # Skip dimensionality reduction\n",
        "            red_states_te = res_states_te             \n",
        "        \n",
        "        # ============ Generate representation of the MTS ============\n",
        "        coeff_te = []\n",
        "        biases_te = []   \n",
        "        \n",
        "        # Output model space representation\n",
        "        if self.mts_rep=='output':\n",
        "            if self.bidir:\n",
        "                Xte = np.concatenate((Xte,Xte[:, ::-1, :]),axis=2)  \n",
        "                    \n",
        "            for i in range(Xte.shape[0]):\n",
        "                self._ridge_embedding.fit(red_states_te[i, 0:-1, :], Xte[i, self.n_drop+1:, :])\n",
        "                coeff_te.append(self._ridge_embedding.coef_.ravel())\n",
        "                biases_te.append(self._ridge_embedding.intercept_.ravel())\n",
        "            input_repr_te = np.concatenate((np.vstack(coeff_te), np.vstack(biases_te)), axis=1)\n",
        "        \n",
        "        # Reservoir model space representation\n",
        "        elif self.mts_rep=='reservoir':    \n",
        "            for i in range(Xte.shape[0]):\n",
        "                self._ridge_embedding.fit(red_states_te[i, 0:-1, :], red_states_te[i, 1:, :])\n",
        "                coeff_te.append(self._ridge_embedding.coef_.ravel())\n",
        "                biases_te.append(self._ridge_embedding.intercept_.ravel())\n",
        "            input_repr_te = np.concatenate((np.vstack(coeff_te), np.vstack(biases_te)), axis=1)\n",
        "    \n",
        "        # Last state representation        \n",
        "        elif self.mts_rep=='last':\n",
        "            input_repr_te = red_states_te[:, -1, :]\n",
        "            \n",
        "        # Mean state representation        \n",
        "        elif self.mts_rep=='mean':\n",
        "            input_repr_te = np.mean(red_states_te, axis=1)\n",
        "            \n",
        "        else:\n",
        "            raise RuntimeError('Invalid representation ID')   \n",
        "            \n",
        "        # ============ Apply readout ============\n",
        "        if self.readout_type == 'lin': # Ridge regression        \n",
        "            logits = self.readout.predict(input_repr_te)\n",
        "            pred_class = np.argmax(logits, axis=1)\n",
        "            \n",
        "        elif self.readout_type == 'svm': # SVM readout\n",
        "            Kte = cdist(input_repr_te, self.input_repr_tr, metric='sqeuclidean')\n",
        "            Kte = np.exp(-self.svm_gamma*Kte)\n",
        "            pred_class = self.readout.predict(Kte)\n",
        "        \n",
        "        elif self.readout_type == 'rdf': # Random Forest readout\n",
        "            pred_class = self.readout.predict(input_repr_te)\n",
        "\n",
        "        elif self.readout_type == 'mlp': # MLP (deep readout)\n",
        "            pred_class = self.readout.predict(input_repr_te)\n",
        "            pred_class = np.argmax(pred_class, axis=1)\n",
        "            \n",
        "        if Yte is not None:\n",
        "            accuracy, f1 = compute_test_scores(pred_class, Yte)\n",
        "            return accuracy, f1\n",
        "        else:\n",
        "            return pred_class\n",
        "\n",
        "    def predict(self, X):\n",
        "        return self.test(X, None)\n"
      ],
      "metadata": {
        "id": "Q7dtSnnr-axN"
      },
      "id": "Q7dtSnnr-axN",
      "execution_count": 88,
      "outputs": []
    },
    {
      "cell_type": "code",
      "source": [
        "# ============ RC model configuration and hyperparameter values ============\n",
        "\n",
        "config = {}\n",
        "\n",
        "config[\"seed\"] = 32\n",
        "\n",
        "np.random.seed(config[\"seed\"])\n",
        "\n",
        "# Hyperarameters of the reservoir\n",
        "config['n_internal_units'] = 450        # size of the reservoir\n",
        "config['spectral_radius'] = 0.59        # largest eigenvalue of the reservoir\n",
        "config['leak'] = 0.6                    # amount of leakage in the reservoir state update (None or 1.0 --> no leakage)\n",
        "config['connectivity'] = 0.25           # percentage of nonzero connections in the reservoir\n",
        "config['input_scaling'] = 0.1           # scaling of the input weights\n",
        "config['noise_level'] = 0.01            # noise in the reservoir state update\n",
        "config['n_drop'] = 5                    # transient states to be dropped\n",
        "config['bidir'] = True                  # if True, use bidirectional reservoir\n",
        "config['circ'] = False                  # use reservoir with circle topology\n",
        "\n",
        "# Dimensionality reduction hyperparameters\n",
        "config['dimred_method'] ='tenpca'       # options: {None (no dimensionality reduction), 'pca', 'tenpca'}\n",
        "config['n_dim'] = 75                    # number of resulting dimensions after the dimensionality reduction procedure\n",
        "\n",
        "# Type of MTS representation\n",
        "config['mts_rep'] = 'reservoir'         # MTS representation:  {'last', 'mean', 'output', 'reservoir'}\n",
        "config['w_ridge_embedding'] = 10.0      # regularization parameter of the ridge regression\n",
        "\n",
        "# Linear readout hyperparameters\n",
        "config['w_ridge'] = 5.0                 # regularization of the ridge regression readout\n",
        "\n",
        "# SVM readout hyperparameters\n",
        "config['svm_gamma'] = 0.005             # bandwith of the RBF kernel\n",
        "config['svm_C'] = 5.0                   # regularization for SVM hyperplane\n",
        "\n",
        "# MLP readout hyperparameters\n",
        "config['mlp_layout'] = (10,10)          # neurons in each MLP layer\n",
        "config['num_epochs'] = 2000             # number of epochs \n",
        "config['w_l2'] = 0.001                  # weight of the L2 regularization\n",
        "config['nonlinearity'] = 'relu'         # type of activation function {'relu', 'tanh', 'logistic', 'identity'}\n",
        "\n",
        "# Random Forest readout hyperparameters\n",
        "config['rdf_n_estimators'] = 100            # number of trees\n",
        "config['rdf_criterion'] = \"gini\"            # function to measure the quality of a split \n",
        "config['rdf_max_depth'] = None              # max deepth of the trees\n",
        "\n",
        "print(config)\n",
        "\n",
        "# ============ Load dataset ============\n",
        "X_over_np, y_over_np = X_over.to_numpy(), y_over.to_numpy()\n",
        "X_over_np = np.reshape(X_over_np, (X_over_np.shape[0], X_over_np.shape[1], 1))\n",
        "X_train, X_test, Y_train, Y_test = train_test_split(X_over_np, y_over_np,test_size = 0.20)\n",
        "\n",
        "\n",
        "# # One-hot encoding for labels\n",
        "onehot_encoder = OneHotEncoder(sparse=False)\n",
        "Y_train = onehot_encoder.fit_transform(Y_train.reshape(-1, 1))\n",
        "Y_test = onehot_encoder.transform(Y_test.reshape(-1, 1))\n"
      ],
      "metadata": {
        "colab": {
          "base_uri": "https://localhost:8080/"
        },
        "id": "B7k9p498fXg_",
        "outputId": "139b8368-afec-41ca-cfab-be59767196f9"
      },
      "id": "B7k9p498fXg_",
      "execution_count": 78,
      "outputs": [
        {
          "output_type": "stream",
          "name": "stdout",
          "text": [
            "{'seed': 32, 'n_internal_units': 450, 'spectral_radius': 0.59, 'leak': 0.6, 'connectivity': 0.25, 'input_scaling': 0.1, 'noise_level': 0.01, 'n_drop': 5, 'bidir': True, 'circ': False, 'dimred_method': 'tenpca', 'n_dim': 75, 'mts_rep': 'reservoir', 'w_ridge_embedding': 10.0, 'w_ridge': 5.0, 'svm_gamma': 0.005, 'svm_C': 5.0, 'mlp_layout': (10, 10), 'num_epochs': 2000, 'w_l2': 0.001, 'nonlinearity': 'relu', 'rdf_n_estimators': 100, 'rdf_criterion': 'gini', 'rdf_max_depth': None}\n"
          ]
        }
      ]
    },
    {
      "cell_type": "markdown",
      "source": [
        "### Evaluation avec Ridge"
      ],
      "metadata": {
        "id": "JcPJTfU2reGO"
      },
      "id": "JcPJTfU2reGO"
    },
    {
      "cell_type": "code",
      "source": [
        "# Type of readout\n",
        "config['readout_type'] = 'lin'          # readout used for classification: {'lin', 'mlp', 'svm'}\n",
        "\n",
        "\n",
        "# ============ Initialize, train and evaluate the RC model ============\n",
        "classifier_lin =  RC_model(\n",
        "                        reservoir=None,     \n",
        "                        n_internal_units=config['n_internal_units'],\n",
        "                        spectral_radius=config['spectral_radius'],\n",
        "                        leak=config['leak'],\n",
        "                        connectivity=config['connectivity'],\n",
        "                        input_scaling=config['input_scaling'],\n",
        "                        noise_level=config['noise_level'],\n",
        "                        circle=config['circ'],\n",
        "                        n_drop=config['n_drop'],\n",
        "                        bidir=config['bidir'],\n",
        "                        dimred_method=config['dimred_method'], \n",
        "                        n_dim=config['n_dim'],\n",
        "                        mts_rep=config['mts_rep'],\n",
        "                        w_ridge_embedding=config['w_ridge_embedding'],\n",
        "                        readout_type=config['readout_type'],            \n",
        "                        w_ridge=config['w_ridge'],              \n",
        "                        mlp_layout=config['mlp_layout'],\n",
        "                        num_epochs=config['num_epochs'],\n",
        "                        w_l2=config['w_l2'],\n",
        "                        nonlinearity=config['nonlinearity'], \n",
        "                        svm_gamma=config['svm_gamma'],\n",
        "                        svm_C=config['svm_C'],\n",
        "                        rdf_n_estimators=config[\"rdf_n_estimators\"],\n",
        "                        rdf_criterion=config[\"rdf_criterion\"],\n",
        "                        rdf_max_depth=config[\"rdf_max_depth\"]\n",
        "                        )\n",
        "\n",
        "tr_time = classifier_lin.train(X_train, Y_train)\n",
        "print('Training time = %.2f seconds'%tr_time)\n",
        "\n",
        "accuracy, f1 = classifier_lin.test(X_test, Y_test)\n",
        "print('Accuracy = %.3f, F1 = %.3f'%(accuracy, f1))\n"
      ],
      "metadata": {
        "colab": {
          "base_uri": "https://localhost:8080/"
        },
        "id": "GKaj8ARqrX0C",
        "outputId": "aa822a5d-a970-4cd9-d1e5-5845c1078649"
      },
      "id": "GKaj8ARqrX0C",
      "execution_count": 79,
      "outputs": [
        {
          "output_type": "stream",
          "name": "stdout",
          "text": [
            "Training time = 0.09 seconds\n",
            "Accuracy = 0.842, F1 = 0.875\n"
          ]
        }
      ]
    },
    {
      "cell_type": "markdown",
      "source": [
        "### Evaluation avec SVM"
      ],
      "metadata": {
        "id": "qRwdXkVsrlpy"
      },
      "id": "qRwdXkVsrlpy"
    },
    {
      "cell_type": "code",
      "source": [
        "# Type of readout\n",
        "config['readout_type'] = 'svm'          # readout used for classification: {'lin', 'mlp', 'svm'}\n",
        "\n",
        "\n",
        "# ============ Initialize, train and evaluate the RC model ============\n",
        "classifier_svm =  RC_model(\n",
        "                        reservoir=None,     \n",
        "                        n_internal_units=config['n_internal_units'],\n",
        "                        spectral_radius=config['spectral_radius'],\n",
        "                        leak=config['leak'],\n",
        "                        connectivity=config['connectivity'],\n",
        "                        input_scaling=config['input_scaling'],\n",
        "                        noise_level=config['noise_level'],\n",
        "                        circle=config['circ'],\n",
        "                        n_drop=config['n_drop'],\n",
        "                        bidir=config['bidir'],\n",
        "                        dimred_method=config['dimred_method'], \n",
        "                        n_dim=config['n_dim'],\n",
        "                        mts_rep=config['mts_rep'],\n",
        "                        w_ridge_embedding=config['w_ridge_embedding'],\n",
        "                        readout_type=config['readout_type'],            \n",
        "                        w_ridge=config['w_ridge'],              \n",
        "                        mlp_layout=config['mlp_layout'],\n",
        "                        num_epochs=config['num_epochs'],\n",
        "                        w_l2=config['w_l2'],\n",
        "                        nonlinearity=config['nonlinearity'], \n",
        "                        svm_gamma=config['svm_gamma'],\n",
        "                        svm_C=config['svm_C'],\n",
        "                        rdf_n_estimators=config[\"rdf_n_estimators\"],\n",
        "                        rdf_criterion=config[\"rdf_criterion\"],\n",
        "                        rdf_max_depth=config[\"rdf_max_depth\"]\n",
        "                        )\n",
        "\n",
        "tr_time = classifier_svm.train(X_train, Y_train)\n",
        "print('Training time = %.2f seconds'%tr_time)\n",
        "\n",
        "accuracy, f1 = classifier_svm.test(X_test, Y_test)\n",
        "print('Accuracy = %.3f, F1 = %.3f'%(accuracy, f1))\n"
      ],
      "metadata": {
        "colab": {
          "base_uri": "https://localhost:8080/"
        },
        "id": "Q0R_0UBDo_VD",
        "outputId": "08c306fe-4b70-4e96-890d-c644910594e1"
      },
      "id": "Q0R_0UBDo_VD",
      "execution_count": 80,
      "outputs": [
        {
          "output_type": "stream",
          "name": "stdout",
          "text": [
            "Training time = 0.09 seconds\n",
            "Accuracy = 0.658, F1 = 0.683\n"
          ]
        }
      ]
    },
    {
      "cell_type": "markdown",
      "source": [
        "### Evaluation avec MLP"
      ],
      "metadata": {
        "id": "o1MtcPcBr8YW"
      },
      "id": "o1MtcPcBr8YW"
    },
    {
      "cell_type": "code",
      "source": [
        "# Type of readout\n",
        "config['readout_type'] = 'mlp'          # readout used for classification: {'lin', 'mlp', 'svm'}\n",
        "\n",
        "\n",
        "# ============ Initialize, train and evaluate the RC model ============\n",
        "classifier_mlp =  RC_model(\n",
        "                        reservoir=None,     \n",
        "                        n_internal_units=config['n_internal_units'],\n",
        "                        spectral_radius=config['spectral_radius'],\n",
        "                        leak=config['leak'],\n",
        "                        connectivity=config['connectivity'],\n",
        "                        input_scaling=config['input_scaling'],\n",
        "                        noise_level=config['noise_level'],\n",
        "                        circle=config['circ'],\n",
        "                        n_drop=config['n_drop'],\n",
        "                        bidir=config['bidir'],\n",
        "                        dimred_method=config['dimred_method'], \n",
        "                        n_dim=config['n_dim'],\n",
        "                        mts_rep=config['mts_rep'],\n",
        "                        w_ridge_embedding=config['w_ridge_embedding'],\n",
        "                        readout_type=config['readout_type'],            \n",
        "                        w_ridge=config['w_ridge'],              \n",
        "                        mlp_layout=config['mlp_layout'],\n",
        "                        num_epochs=config['num_epochs'],\n",
        "                        w_l2=config['w_l2'],\n",
        "                        nonlinearity=config['nonlinearity'], \n",
        "                        svm_gamma=config['svm_gamma'],\n",
        "                        svm_C=config['svm_C'],\n",
        "                        rdf_n_estimators=config[\"rdf_n_estimators\"],\n",
        "                        rdf_criterion=config[\"rdf_criterion\"],\n",
        "                        rdf_max_depth=config[\"rdf_max_depth\"]\n",
        "                        )\n",
        "\n",
        "tr_time = classifier_mlp.train(X_train, Y_train)\n",
        "print('Training time = %.2f seconds'%tr_time)\n",
        "\n",
        "accuracy, f1 = classifier_mlp.test(X_test, Y_test)\n",
        "print('Accuracy = %.3f, F1 = %.3f'%(accuracy, f1))\n"
      ],
      "metadata": {
        "colab": {
          "base_uri": "https://localhost:8080/"
        },
        "id": "IQrpsioej3kj",
        "outputId": "ba877326-4f70-45a3-f087-6a23a57d3706"
      },
      "id": "IQrpsioej3kj",
      "execution_count": 89,
      "outputs": [
        {
          "output_type": "stream",
          "name": "stdout",
          "text": [
            "Training time = 0.23 seconds\n",
            "Accuracy = 0.895, F1 = 0.926\n"
          ]
        }
      ]
    },
    {
      "cell_type": "markdown",
      "source": [
        "### Evaluation avec Random Forest"
      ],
      "metadata": {
        "id": "ju10buWLz4rr"
      },
      "id": "ju10buWLz4rr"
    },
    {
      "cell_type": "code",
      "source": [
        "# Type of readout\n",
        "config['readout_type'] = 'rdf'          # readout used for classification: {'lin', 'mlp', 'svm'}\n",
        "\n",
        "\n",
        "# ============ Initialize, train and evaluate the RC model ============\n",
        "classifier_rdf =  RC_model(\n",
        "                        reservoir=None,     \n",
        "                        n_internal_units=config['n_internal_units'],\n",
        "                        spectral_radius=config['spectral_radius'],\n",
        "                        leak=config['leak'],\n",
        "                        connectivity=config['connectivity'],\n",
        "                        input_scaling=config['input_scaling'],\n",
        "                        noise_level=config['noise_level'],\n",
        "                        circle=config['circ'],\n",
        "                        n_drop=config['n_drop'],\n",
        "                        bidir=config['bidir'],\n",
        "                        dimred_method=config['dimred_method'], \n",
        "                        n_dim=config['n_dim'],\n",
        "                        mts_rep=config['mts_rep'],\n",
        "                        w_ridge_embedding=config['w_ridge_embedding'],\n",
        "                        readout_type=config['readout_type'],            \n",
        "                        w_ridge=config['w_ridge'],              \n",
        "                        mlp_layout=config['mlp_layout'],\n",
        "                        num_epochs=config['num_epochs'],\n",
        "                        w_l2=config['w_l2'],\n",
        "                        nonlinearity=config['nonlinearity'], \n",
        "                        svm_gamma=config['svm_gamma'],\n",
        "                        svm_C=config['svm_C'],\n",
        "                        rdf_n_estimators=config[\"rdf_n_estimators\"],\n",
        "                        rdf_criterion=config[\"rdf_criterion\"],\n",
        "                        rdf_max_depth=config[\"rdf_max_depth\"]\n",
        "                        )\n",
        "\n",
        "tr_time = classifier_rdf.train(X_train, Y_train)\n",
        "print('Training time = %.2f seconds'%tr_time)\n",
        "\n",
        "accuracy, f1 = classifier_rdf.test(X_test, Y_test)\n",
        "print('Accuracy = %.3f, F1 = %.3f'%(accuracy, f1))\n"
      ],
      "metadata": {
        "id": "Jk2pudgDsBJ-",
        "colab": {
          "base_uri": "https://localhost:8080/"
        },
        "outputId": "655571eb-642c-49ad-edd4-01be583bc82c"
      },
      "id": "Jk2pudgDsBJ-",
      "execution_count": 82,
      "outputs": [
        {
          "output_type": "stream",
          "name": "stdout",
          "text": [
            "Training time = 0.10 seconds\n",
            "Accuracy = 0.921, F1 = 0.945\n"
          ]
        }
      ]
    },
    {
      "cell_type": "markdown",
      "source": [
        "Le meilleur modèle est le modèle couplant Réservoir et réseau de neurones"
      ],
      "metadata": {
        "id": "azUKymEw2Sdd"
      },
      "id": "azUKymEw2Sdd"
    },
    {
      "cell_type": "code",
      "source": [
        "with open(\"classifier_mlp\", \"wb\") as f:\n",
        "    pickle.dump(classifier_mlp, f)"
      ],
      "metadata": {
        "id": "CM9XVitU1IZo"
      },
      "id": "CM9XVitU1IZo",
      "execution_count": 90,
      "outputs": []
    },
    {
      "cell_type": "markdown",
      "source": [
        "# Pipeline de traitrement"
      ],
      "metadata": {
        "id": "4VhUW93L6Z93"
      },
      "id": "4VhUW93L6Z93"
    },
    {
      "cell_type": "code",
      "source": [
        "def text_to_model(file_path):\n",
        "    \"\"\" Extraction des données des fiucher pdf\"\"\"\n",
        "\n",
        "    image = convert_from_path(file_path)\n",
        "    text = pytesseract.image_to_string(image[0])\n",
        "    text = re.sub(r\";+\", \" \", text)\n",
        "    text = re.sub(r\"\\s+\", \" \", text)\n",
        "    \n",
        "\n",
        "    #   Récupération de ma liste des stop words\n",
        "    stop_words = set(stopwords.words(\"english\"))\n",
        "\n",
        "    # Suppression des ponctuations\n",
        "    text = re.sub('[^a-zA-Z]', ' ', text)\n",
        "    \n",
        "    # convertir en minuscule\n",
        "    text = text.lower()\n",
        "    \n",
        "    # Suppression des balises\n",
        "    text=re.sub(\"&lt;/?.*?&gt;\",\" &lt;&gt; \",text)\n",
        "    \n",
        "    # suppression des caracères spéciaux\n",
        "    text=re.sub(\"(\\\\d|\\\\W)+\",\" \",text)\n",
        "    \n",
        "    # Conversion en liste\n",
        "    text = text.split()\n",
        "    \n",
        "    # lémmatisation\n",
        "    lem = WordNetLemmatizer()\n",
        "    text = [lem.lemmatize(word) for word in text if not word in  \n",
        "            stop_words] \n",
        "    text = \" \".join(text)\n",
        "\n",
        "    #   Conversion du texte en vecteurs\n",
        "    #   Récupérer CV depuis un fichier\n",
        "    \n",
        "    cv = pickle.load( open(\"CountVectorizer\", \"rb\" ) )\n",
        "    X = cv.transform([text])\n",
        "\n",
        "    #   Conversion de la matrice en entier\n",
        "    X = sparse.csr_matrix.toarray(X)\n",
        "    X = X.reshape((1, X.shape[1], 1))\n",
        "    return X\n",
        "\n",
        "\n",
        "\n",
        "matrice = text_to_model(\"./zoi_6.pdf\")\n"
      ],
      "metadata": {
        "id": "FmfG6SY36ZcL"
      },
      "id": "FmfG6SY36ZcL",
      "execution_count": 84,
      "outputs": []
    },
    {
      "cell_type": "code",
      "source": [
        "model = pickle.load(open(\"classifier_mlp\", \"rb\" ))\n",
        "\n",
        "print(model.predict(matrice))"
      ],
      "metadata": {
        "colab": {
          "base_uri": "https://localhost:8080/"
        },
        "id": "PF12RBoeNCgL",
        "outputId": "b968883f-f2a0-4497-985d-c13786f3f53d"
      },
      "id": "PF12RBoeNCgL",
      "execution_count": 91,
      "outputs": [
        {
          "output_type": "stream",
          "name": "stdout",
          "text": [
            "[1]\n"
          ]
        }
      ]
    },
    {
      "cell_type": "code",
      "source": [
        ""
      ],
      "metadata": {
        "id": "89zt_1KeUZHT"
      },
      "id": "89zt_1KeUZHT",
      "execution_count": null,
      "outputs": []
    }
  ],
  "metadata": {
    "kernelspec": {
      "display_name": "Python 3 (ipykernel)",
      "language": "python",
      "name": "python3"
    },
    "language_info": {
      "codemirror_mode": {
        "name": "ipython",
        "version": 3
      },
      "file_extension": ".py",
      "mimetype": "text/x-python",
      "name": "python",
      "nbconvert_exporter": "python",
      "pygments_lexer": "ipython3",
      "version": "3.8.5"
    },
    "colab": {
      "name": "Modele utilisant le Reservoir Computing.ipynb",
      "provenance": [],
      "collapsed_sections": []
    }
  },
  "nbformat": 4,
  "nbformat_minor": 5
}