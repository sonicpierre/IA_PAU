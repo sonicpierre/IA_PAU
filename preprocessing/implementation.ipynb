{
 "cells": [
  {
   "cell_type": "code",
   "execution_count": 69,
   "id": "9bfa389e",
   "metadata": {},
   "outputs": [
    {
     "name": "stderr",
     "output_type": "stream",
     "text": [
      "[nltk_data] Downloading package stopwords to\n",
      "[nltk_data]     C:\\Users\\adodo\\AppData\\Roaming\\nltk_data...\n",
      "[nltk_data]   Package stopwords is already up-to-date!\n",
      "[nltk_data] Downloading package wordnet to\n",
      "[nltk_data]     C:\\Users\\adodo\\AppData\\Roaming\\nltk_data...\n",
      "[nltk_data]   Package wordnet is already up-to-date!\n"
     ]
    }
   ],
   "source": [
    "import nltk\n",
    "import re\n",
    "import sys\n",
    "import numpy as np\n",
    "import pickle\n",
    "import joblib\n",
    "from os import path\n",
    "from scipy import sparse\n",
    "import pandas as pd\n",
    "import seaborn as sns\n",
    "import xgboost as xgb\n",
    "from collections import Counter\n",
    "from nltk.tokenize import word_tokenize\n",
    "nltk.download('stopwords')\n",
    "from nltk.corpus import stopwords\n",
    "import matplotlib.pyplot as plt\n",
    "from nltk.stem.porter import PorterStemmer\n",
    "from nltk.tokenize import RegexpTokenizer\n",
    "nltk.download('wordnet') \n",
    "from sklearn.feature_extraction.text import CountVectorizer\n",
    "from nltk.stem.wordnet import WordNetLemmatizer\n",
    "from wordcloud import WordCloud, STOPWORDS, ImageColorGenerator\n",
    "from sklearn.feature_extraction.text import TfidfTransformer\n",
    "from imblearn.over_sampling import ADASYN, SMOTE\n",
    "from sklearn.preprocessing import LabelEncoder, StandardScaler, MinMaxScaler\n",
    "from sklearn.linear_model import LogisticRegression\n",
    "from sklearn.ensemble import GradientBoostingClassifier, RandomForestClassifier, AdaBoostClassifier\n",
    "from sklearn.model_selection import cross_val_score, train_test_split, GridSearchCV\n",
    "from sklearn.metrics import precision_score, recall_score, roc_auc_score, roc_curve, balanced_accuracy_score\n",
    "from sklearn.metrics import matthews_corrcoef, accuracy_score, classification_report, confusion_matrix, f1_score\n"
   ]
  },
  {
   "cell_type": "code",
   "execution_count": 35,
   "id": "47ee67f3",
   "metadata": {},
   "outputs": [
    {
     "data": {
      "text/plain": [
       "'MOBIL EXPLORATION NORWAY INC. WELL 33/9-16 RFT RESULTS DEPTH (mRKB) | HYDSTAT. FM PRESSURE MUD (HP GAUGE) PRESSURE psia 30th-31st DEC 92 RUN 2A 1 2684.4 | 2684.4 38.881 GOOD PERMEABILITY 2685.0 | 2685.0 PLUGGING 2685.0 | 2685.0 i 38.887 GOOD PERMEABILITY 2686.4 | 2686.4 38.903 GOOD PERMEABILITY 2687.0 | 2687.0 . 38.908 GOOD PERMEABILITY 2688.0 | 2688.0 38.919 . GOOD PERMEABILITY 2689.0 | 2689.0 38.930 A GOOD PERMEABILITY 2690.0 | 2690.0 38.941 4 GOOD PERMEABILITY 2693.5 § 2693.5 38.975 \\\\ GOOD PERMEABILITY 2698.5 | 2698.5 39.021 \\\\ GOOD PERMEABILITY 2704.9 | 2704.9 39.077 ie GOOD PERMEABILITY 2713.0 | 2713.0 39.161 5 GOOD PERMEABILITY 2725.0 | 2725.0 39.278 \\\\ GOOD PERMEABILITY 2730.0 | 2730.0 39.335 s GCOD PERMEABILITY 2736.0 | 2736.0 39.494 \\\\. POOR PERMEABILITY 2747.5 | 2747.5 39.492 . GOOD PERMEABILITY 2815.5 § 2815.5 36.468 . GOOD PERMEABILITY 2817.0 | 2817.0 36.477 . GOOD PERMEABILITY 2820.5 § 2820.5 36.509 \\\\< GOOD PERMEABILITY 2823.0 § 2823.0 36.537 fi GOOD PERMEABILITY 2830.0 § 2830.0 36.619 5 GOOD PERMEABILITY 2839.0 | 2839.0 36.687 5 GOOD PERMEABILITY 2845.0 § 2845.0 36.742 5 GOOD PERMEABILITY 2849.0 | 2849.0 36.776 . GOOD PERMEABILITY 2857.0 § 2857.0 37.236 GOOD PERMEABILITY 2863.0 | 2863.0 38.104 i GOOD PERMEABILITY 2685.0 | 2685.0 38.878 GOOD PERMEABILITY - Segregated Sample. oon oO nn & WN NY NY NY DD Bw we te we et sat on O89 O AN OO UG PF OND |= CO @ Figure 2.13 5836.3 5838.0 5837.8 5840.9 5841.6 5843.4 5846.1 5847.9 5853.9 5863.5 5875.9 5898.1 5920.2 5930.9 5943.1 5976.1 6113.3 6116.7 6123.7 6128.5 6142.4 6160.7 6173.7 6182.0 6199.1 6211.0 5833.6 5836.3 5838.0 5837.8 5840.9 5841.6 5843.4 5846.1 5847.9 5853.9 5863.5 5875.9 5898.1 5920.2 5930.9 5943.1 5976.1 6113.3 6116.7 6123.7 6128.5 6142.4 6160.7 6173.7 6182.0 6199.1 6211.0 5833.6 RUN 2A rn nertn © Ke © OD o 4 rc a NN rr o pd z re wo - o - nt = oe pod a = So N r nN N N oo N zs N 26 27 GOOD PERMEABILITY PLUGGING GOOD PERMEABILITY GOOD PERMEABILITY GOOD PERMEABILITY GOOD PERMEABILITY GOOD PERMEABILITY GOOD PERMEABILITY GOOD PERMEABILITY GOOD PERMEABILITY GOOD PERMEABILITY GOOD PERMEABILITY GOOD PERMEABILITY GCOD PERMEABILITY POOR PERMEABILITY GOOD PERMEABILITY GOOD PERMEABILITY GOOD PERMEABILITY GOOD PERMEABILITY GOOD PERMEABILITY GOOD PERMEABILITY GOOD PERMEABILITY GOOD PERMEABILITY GOOD PERMEABILITY GOOD PERMEABILITY GOOD PERMEABILITY GOOD PERMEABILITY - Segregated Sample. oon oO nn & WN a yu = Oo 13 NNN DD Be we we ee on O O AN OO A 5639.2 5640.1 5642.4 3643.1 5644.8 5646.3 3647.9 3652.8 5659.5 5667.7 3679.9 3696.8 5705.0 5728.1 5727.8 5289.2 5290.6 5295.2 5299.3 5311.1 5321.0 5329.0 5333.9 5400.7 5526.5 5638.9 '"
      ]
     },
     "execution_count": 35,
     "metadata": {},
     "output_type": "execute_result"
    }
   ],
   "source": [
    "df = pd.read_csv('dataset_opencv.csv', sep = ';')\n",
    "df.iloc[0,0]"
   ]
  },
  {
   "cell_type": "code",
   "execution_count": 70,
   "id": "0c207372",
   "metadata": {},
   "outputs": [],
   "source": [
    "def text_preprocessing(pdf_text):\n",
    "    stop_words = set(stopwords.words(\"english\"))\n",
    "    # Suppression des ponctuations\n",
    "    text = re.sub('[^a-zA-Z]', ' ', pdf_text)\n",
    "    # convertir en minuscule\n",
    "    text = text.lower()\n",
    "    # Suppression des balises\n",
    "    text=re.sub(\"&lt;/?.*?&gt;\",\" &lt;&gt; \",text)\n",
    "    # suppression des caracères spéciaux\n",
    "    text=re.sub(\"(\\\\d|\\\\W)+\",\" \",text)\n",
    "    # Conversion en liste\n",
    "    text = text.split()\n",
    "    # normalisation de type lammélisation (on extrait de chaque mot les expressions non régulières)\n",
    "    lem = WordNetLemmatizer()\n",
    "    text = [lem.lemmatize(word) for word in text if not word in  \n",
    "            stop_words] \n",
    "    text = \" \".join(text)\n",
    "    cv = CountVectorizer(stop_words = stop_words, max_features = 50, ngram_range = (1,3))\n",
    "    X = cv.fit_transform([text])\n",
    "    X1 = sparse.csr_matrix.toarray(X)\n",
    "    return(X1)"
   ]
  },
  {
   "cell_type": "code",
   "execution_count": 71,
   "id": "2290d0b2",
   "metadata": {},
   "outputs": [
    {
     "data": {
      "text/plain": [
       "array([[ 2,  2,  2,  2, 48, 48,  2, 40,  2,  2,  4,  2,  3,  2,  6,  2,\n",
       "         2,  2,  2,  2, 52,  2,  2, 42, 42,  2,  2,  2,  2,  2,  2,  2,\n",
       "         2,  2,  1,  1,  1,  2,  2,  2,  2,  1,  2,  2,  2,  2,  2,  2,\n",
       "         2,  2]], dtype=int64)"
      ]
     },
     "execution_count": 71,
     "metadata": {},
     "output_type": "execute_result"
    }
   ],
   "source": [
    "text_preprocessing(df.iloc[0,0])"
   ]
  },
  {
   "cell_type": "code",
   "execution_count": 72,
   "id": "99269399",
   "metadata": {},
   "outputs": [],
   "source": [
    "# load, no need to initialize the loaded_rf\n",
    "loaded_rf = joblib.load(\"./random_forest.joblib\")"
   ]
  },
  {
   "cell_type": "code",
   "execution_count": 75,
   "id": "5f86689e",
   "metadata": {},
   "outputs": [
    {
     "name": "stdout",
     "output_type": "stream",
     "text": [
      "[1]\n"
     ]
    }
   ],
   "source": [
    "print(loaded_rf.predict(text_preprocessing(df.iloc[0,0])))"
   ]
  },
  {
   "cell_type": "code",
   "execution_count": null,
   "id": "3cb42b6e",
   "metadata": {},
   "outputs": [],
   "source": []
  }
 ],
 "metadata": {
  "kernelspec": {
   "display_name": "Python 3 (ipykernel)",
   "language": "python",
   "name": "python3"
  },
  "language_info": {
   "codemirror_mode": {
    "name": "ipython",
    "version": 3
   },
   "file_extension": ".py",
   "mimetype": "text/x-python",
   "name": "python",
   "nbconvert_exporter": "python",
   "pygments_lexer": "ipython3",
   "version": "3.8.5"
  }
 },
 "nbformat": 4,
 "nbformat_minor": 5
}
