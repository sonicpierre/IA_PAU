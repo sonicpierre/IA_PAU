{
  "cells": [
    {
      "cell_type": "markdown",
      "metadata": {
        "id": "0hg6n1TeqSb1"
      },
      "source": [
        "# Extraction des données avec Teceract"
      ]
    },
    {
      "cell_type": "code",
      "source": [
        "!apt install tesseract-ocr\n",
        "!apt-get install poppler-utils\n",
        "!pip install pdf2image\n",
        "!pip install pytesseract\n",
        "!pip install opencv-python"
      ],
      "metadata": {
        "colab": {
          "base_uri": "https://localhost:8080/"
        },
        "id": "U3mMoR0cqvR9",
        "outputId": "f1734642-cb28-4a6b-af99-5c08f7696414"
      },
      "execution_count": 27,
      "outputs": [
        {
          "output_type": "stream",
          "name": "stdout",
          "text": [
            "Reading package lists... Done\n",
            "Building dependency tree       \n",
            "Reading state information... Done\n",
            "The following additional packages will be installed:\n",
            "  tesseract-ocr-eng tesseract-ocr-osd\n",
            "The following NEW packages will be installed:\n",
            "  tesseract-ocr tesseract-ocr-eng tesseract-ocr-osd\n",
            "0 upgraded, 3 newly installed, 0 to remove and 64 not upgraded.\n",
            "Need to get 4,795 kB of archives.\n",
            "After this operation, 15.8 MB of additional disk space will be used.\n",
            "Get:1 http://archive.ubuntu.com/ubuntu bionic/universe amd64 tesseract-ocr-eng all 4.00~git24-0e00fe6-1.2 [1,588 kB]\n",
            "Get:2 http://archive.ubuntu.com/ubuntu bionic/universe amd64 tesseract-ocr-osd all 4.00~git24-0e00fe6-1.2 [2,989 kB]\n",
            "Get:3 http://archive.ubuntu.com/ubuntu bionic/universe amd64 tesseract-ocr amd64 4.00~git2288-10f4998a-2 [218 kB]\n",
            "Fetched 4,795 kB in 2s (2,934 kB/s)\n",
            "Selecting previously unselected package tesseract-ocr-eng.\n",
            "(Reading database ... 155503 files and directories currently installed.)\n",
            "Preparing to unpack .../tesseract-ocr-eng_4.00~git24-0e00fe6-1.2_all.deb ...\n",
            "Unpacking tesseract-ocr-eng (4.00~git24-0e00fe6-1.2) ...\n",
            "Selecting previously unselected package tesseract-ocr-osd.\n",
            "Preparing to unpack .../tesseract-ocr-osd_4.00~git24-0e00fe6-1.2_all.deb ...\n",
            "Unpacking tesseract-ocr-osd (4.00~git24-0e00fe6-1.2) ...\n",
            "Selecting previously unselected package tesseract-ocr.\n",
            "Preparing to unpack .../tesseract-ocr_4.00~git2288-10f4998a-2_amd64.deb ...\n",
            "Unpacking tesseract-ocr (4.00~git2288-10f4998a-2) ...\n",
            "Setting up tesseract-ocr-osd (4.00~git24-0e00fe6-1.2) ...\n",
            "Setting up tesseract-ocr-eng (4.00~git24-0e00fe6-1.2) ...\n",
            "Setting up tesseract-ocr (4.00~git2288-10f4998a-2) ...\n",
            "Processing triggers for man-db (2.8.3-2ubuntu0.1) ...\n",
            "Reading package lists... Done\n",
            "Building dependency tree       \n",
            "Reading state information... Done\n",
            "poppler-utils is already the newest version (0.62.0-2ubuntu2.12).\n",
            "0 upgraded, 0 newly installed, 0 to remove and 64 not upgraded.\n",
            "Requirement already satisfied: pdf2image in /usr/local/lib/python3.7/dist-packages (1.16.0)\n",
            "Requirement already satisfied: pillow in /usr/local/lib/python3.7/dist-packages (from pdf2image) (7.1.2)\n",
            "Requirement already satisfied: pytesseract in /usr/local/lib/python3.7/dist-packages (0.3.8)\n",
            "Requirement already satisfied: Pillow in /usr/local/lib/python3.7/dist-packages (from pytesseract) (7.1.2)\n",
            "Requirement already satisfied: opencv-python in /usr/local/lib/python3.7/dist-packages (4.1.2.30)\n",
            "Requirement already satisfied: numpy>=1.14.5 in /usr/local/lib/python3.7/dist-packages (from opencv-python) (1.19.5)\n"
          ]
        }
      ]
    },
    {
      "cell_type": "code",
      "source": [
        "from google.colab import drive\n",
        "drive.mount('/content/gdrive')"
      ],
      "metadata": {
        "colab": {
          "base_uri": "https://localhost:8080/"
        },
        "id": "r43h8Tvwrhor",
        "outputId": "1c9db591-e692-4ab9-ed33-a9e048da3a87"
      },
      "execution_count": 3,
      "outputs": [
        {
          "output_type": "stream",
          "name": "stdout",
          "text": [
            "Mounted at /content/gdrive\n"
          ]
        }
      ]
    },
    {
      "cell_type": "code",
      "source": [
        "!cp \"/content/gdrive/My Drive/Colab Notebooks/Data_challenge_IA_PAU/pdf.zip\" .\n",
        "!unzip pdf.zip\n",
        "!mv pdf/pdf\\ no\\ zoi pdf/pdf_no_zoi\n",
        "!mv pdf/pdf\\ with\\ zoi pdf/pdf_with_zoi"
      ],
      "metadata": {
        "colab": {
          "base_uri": "https://localhost:8080/"
        },
        "id": "6K-KeShasDyq",
        "outputId": "0ff0c41a-5543-4729-b2e6-386168a78032"
      },
      "execution_count": 4,
      "outputs": [
        {
          "output_type": "stream",
          "name": "stdout",
          "text": [
            "Archive:  pdf.zip\n",
            "   creating: pdf/\n",
            "   creating: pdf/pdf no zoi/\n",
            "  inflating: pdf/pdf no zoi/not_zoi_1.pdf  \n",
            "  inflating: pdf/pdf no zoi/not_zoi_10.pdf  \n",
            "  inflating: pdf/pdf no zoi/not_zoi_100.pdf  \n",
            "  inflating: pdf/pdf no zoi/not_zoi_11.pdf  \n",
            "  inflating: pdf/pdf no zoi/not_zoi_12.pdf  \n",
            "  inflating: pdf/pdf no zoi/not_zoi_13.pdf  \n",
            "  inflating: pdf/pdf no zoi/not_zoi_14.pdf  \n",
            "  inflating: pdf/pdf no zoi/not_zoi_15.pdf  \n",
            "  inflating: pdf/pdf no zoi/not_zoi_16.pdf  \n",
            "  inflating: pdf/pdf no zoi/not_zoi_17.pdf  \n",
            "  inflating: pdf/pdf no zoi/not_zoi_18.pdf  \n",
            "  inflating: pdf/pdf no zoi/not_zoi_19.pdf  \n",
            "  inflating: pdf/pdf no zoi/not_zoi_2.pdf  \n",
            "  inflating: pdf/pdf no zoi/not_zoi_20.pdf  \n",
            "  inflating: pdf/pdf no zoi/not_zoi_21.pdf  \n",
            "  inflating: pdf/pdf no zoi/not_zoi_22.pdf  \n",
            "  inflating: pdf/pdf no zoi/not_zoi_23.pdf  \n",
            "  inflating: pdf/pdf no zoi/not_zoi_24.pdf  \n",
            "  inflating: pdf/pdf no zoi/not_zoi_25.pdf  \n",
            "  inflating: pdf/pdf no zoi/not_zoi_26.pdf  \n",
            "  inflating: pdf/pdf no zoi/not_zoi_27.pdf  \n",
            "  inflating: pdf/pdf no zoi/not_zoi_28.pdf  \n",
            "  inflating: pdf/pdf no zoi/not_zoi_29.pdf  \n",
            "  inflating: pdf/pdf no zoi/not_zoi_3.pdf  \n",
            "  inflating: pdf/pdf no zoi/not_zoi_30.pdf  \n",
            "  inflating: pdf/pdf no zoi/not_zoi_31.pdf  \n",
            "  inflating: pdf/pdf no zoi/not_zoi_32.pdf  \n",
            "  inflating: pdf/pdf no zoi/not_zoi_33.pdf  \n",
            "  inflating: pdf/pdf no zoi/not_zoi_34.pdf  \n",
            "  inflating: pdf/pdf no zoi/not_zoi_35.pdf  \n",
            "  inflating: pdf/pdf no zoi/not_zoi_36.pdf  \n",
            "  inflating: pdf/pdf no zoi/not_zoi_37.pdf  \n",
            "  inflating: pdf/pdf no zoi/not_zoi_38.pdf  \n",
            "  inflating: pdf/pdf no zoi/not_zoi_39.pdf  \n",
            "  inflating: pdf/pdf no zoi/not_zoi_4.pdf  \n",
            "  inflating: pdf/pdf no zoi/not_zoi_40.pdf  \n",
            "  inflating: pdf/pdf no zoi/not_zoi_41.pdf  \n",
            "  inflating: pdf/pdf no zoi/not_zoi_42.pdf  \n",
            "  inflating: pdf/pdf no zoi/not_zoi_43.pdf  \n",
            "  inflating: pdf/pdf no zoi/not_zoi_44.pdf  \n",
            "  inflating: pdf/pdf no zoi/not_zoi_45.pdf  \n",
            "  inflating: pdf/pdf no zoi/not_zoi_46.pdf  \n",
            "  inflating: pdf/pdf no zoi/not_zoi_47.pdf  \n",
            "  inflating: pdf/pdf no zoi/not_zoi_48.pdf  \n",
            "  inflating: pdf/pdf no zoi/not_zoi_49.pdf  \n",
            "  inflating: pdf/pdf no zoi/not_zoi_5.pdf  \n",
            "  inflating: pdf/pdf no zoi/not_zoi_50.pdf  \n",
            "  inflating: pdf/pdf no zoi/not_zoi_51.pdf  \n",
            "  inflating: pdf/pdf no zoi/not_zoi_52.pdf  \n",
            "  inflating: pdf/pdf no zoi/not_zoi_53.pdf  \n",
            "  inflating: pdf/pdf no zoi/not_zoi_54.pdf  \n",
            "  inflating: pdf/pdf no zoi/not_zoi_55.pdf  \n",
            "  inflating: pdf/pdf no zoi/not_zoi_56.pdf  \n",
            "  inflating: pdf/pdf no zoi/not_zoi_57.pdf  \n",
            "  inflating: pdf/pdf no zoi/not_zoi_58.pdf  \n",
            "  inflating: pdf/pdf no zoi/not_zoi_59.pdf  \n",
            "  inflating: pdf/pdf no zoi/not_zoi_6.pdf  \n",
            "  inflating: pdf/pdf no zoi/not_zoi_60.pdf  \n",
            "  inflating: pdf/pdf no zoi/not_zoi_61.pdf  \n",
            "  inflating: pdf/pdf no zoi/not_zoi_62.pdf  \n",
            "  inflating: pdf/pdf no zoi/not_zoi_63.pdf  \n",
            "  inflating: pdf/pdf no zoi/not_zoi_64.pdf  \n",
            "  inflating: pdf/pdf no zoi/not_zoi_65.pdf  \n",
            "  inflating: pdf/pdf no zoi/not_zoi_66.pdf  \n",
            "  inflating: pdf/pdf no zoi/not_zoi_67.pdf  \n",
            "  inflating: pdf/pdf no zoi/not_zoi_68.pdf  \n",
            "  inflating: pdf/pdf no zoi/not_zoi_69.pdf  \n",
            "  inflating: pdf/pdf no zoi/not_zoi_7.pdf  \n",
            "  inflating: pdf/pdf no zoi/not_zoi_70.pdf  \n",
            "  inflating: pdf/pdf no zoi/not_zoi_71.pdf  \n",
            "  inflating: pdf/pdf no zoi/not_zoi_72.pdf  \n",
            "  inflating: pdf/pdf no zoi/not_zoi_73.pdf  \n",
            "  inflating: pdf/pdf no zoi/not_zoi_74.pdf  \n",
            "  inflating: pdf/pdf no zoi/not_zoi_75.pdf  \n",
            "  inflating: pdf/pdf no zoi/not_zoi_76.pdf  \n",
            "  inflating: pdf/pdf no zoi/not_zoi_77.pdf  \n",
            "  inflating: pdf/pdf no zoi/not_zoi_78.pdf  \n",
            "  inflating: pdf/pdf no zoi/not_zoi_79.pdf  \n",
            "  inflating: pdf/pdf no zoi/not_zoi_8.pdf  \n",
            "  inflating: pdf/pdf no zoi/not_zoi_80.pdf  \n",
            "  inflating: pdf/pdf no zoi/not_zoi_81.pdf  \n",
            "  inflating: pdf/pdf no zoi/not_zoi_82.pdf  \n",
            "  inflating: pdf/pdf no zoi/not_zoi_83.pdf  \n",
            "  inflating: pdf/pdf no zoi/not_zoi_84.pdf  \n",
            "  inflating: pdf/pdf no zoi/not_zoi_85.pdf  \n",
            "  inflating: pdf/pdf no zoi/not_zoi_86.pdf  \n",
            "  inflating: pdf/pdf no zoi/not_zoi_87.pdf  \n",
            "  inflating: pdf/pdf no zoi/not_zoi_88.pdf  \n",
            "  inflating: pdf/pdf no zoi/not_zoi_89.pdf  \n",
            "  inflating: pdf/pdf no zoi/not_zoi_9.pdf  \n",
            "  inflating: pdf/pdf no zoi/not_zoi_90.pdf  \n",
            "  inflating: pdf/pdf no zoi/not_zoi_91.pdf  \n",
            "  inflating: pdf/pdf no zoi/not_zoi_92.pdf  \n",
            "  inflating: pdf/pdf no zoi/not_zoi_93.pdf  \n",
            "  inflating: pdf/pdf no zoi/not_zoi_94.pdf  \n",
            "  inflating: pdf/pdf no zoi/not_zoi_95.pdf  \n",
            "  inflating: pdf/pdf no zoi/not_zoi_96.pdf  \n",
            "  inflating: pdf/pdf no zoi/not_zoi_97.pdf  \n",
            "  inflating: pdf/pdf no zoi/not_zoi_98.pdf  \n",
            "  inflating: pdf/pdf no zoi/not_zoi_99.pdf  \n",
            "   creating: pdf/pdf with zoi/\n",
            "  inflating: pdf/pdf with zoi/zoi_1.pdf  \n",
            "  inflating: pdf/pdf with zoi/zoi_10.pdf  \n",
            "  inflating: pdf/pdf with zoi/zoi_11.pdf  \n",
            "  inflating: pdf/pdf with zoi/zoi_12.pdf  \n",
            "  inflating: pdf/pdf with zoi/zoi_13.pdf  \n",
            "  inflating: pdf/pdf with zoi/zoi_14.pdf  \n",
            "  inflating: pdf/pdf with zoi/zoi_15.pdf  \n",
            "  inflating: pdf/pdf with zoi/zoi_16.pdf  \n",
            "  inflating: pdf/pdf with zoi/zoi_17.pdf  \n",
            "  inflating: pdf/pdf with zoi/zoi_18.pdf  \n",
            "  inflating: pdf/pdf with zoi/zoi_19.pdf  \n",
            "  inflating: pdf/pdf with zoi/zoi_2.pdf  \n",
            "  inflating: pdf/pdf with zoi/zoi_20.pdf  \n",
            "  inflating: pdf/pdf with zoi/zoi_21.pdf  \n",
            "  inflating: pdf/pdf with zoi/zoi_22.pdf  \n",
            "  inflating: pdf/pdf with zoi/zoi_23.pdf  \n",
            "  inflating: pdf/pdf with zoi/zoi_24.pdf  \n",
            "  inflating: pdf/pdf with zoi/zoi_25.pdf  \n",
            "  inflating: pdf/pdf with zoi/zoi_26.pdf  \n",
            "  inflating: pdf/pdf with zoi/zoi_27.pdf  \n",
            "  inflating: pdf/pdf with zoi/zoi_28.pdf  \n",
            "  inflating: pdf/pdf with zoi/zoi_29.pdf  \n",
            "  inflating: pdf/pdf with zoi/zoi_3.pdf  \n",
            "  inflating: pdf/pdf with zoi/zoi_30.pdf  \n",
            "  inflating: pdf/pdf with zoi/zoi_31.pdf  \n",
            "  inflating: pdf/pdf with zoi/zoi_32.pdf  \n",
            "  inflating: pdf/pdf with zoi/zoi_33.pdf  \n",
            "  inflating: pdf/pdf with zoi/zoi_34.pdf  \n",
            "  inflating: pdf/pdf with zoi/zoi_35.pdf  \n",
            "  inflating: pdf/pdf with zoi/zoi_36.pdf  \n",
            "  inflating: pdf/pdf with zoi/zoi_37.pdf  \n",
            "  inflating: pdf/pdf with zoi/zoi_38.pdf  \n",
            "  inflating: pdf/pdf with zoi/zoi_39.pdf  \n",
            "  inflating: pdf/pdf with zoi/zoi_4.pdf  \n",
            "  inflating: pdf/pdf with zoi/zoi_40.pdf  \n",
            "  inflating: pdf/pdf with zoi/zoi_41.pdf  \n",
            "  inflating: pdf/pdf with zoi/zoi_42.pdf  \n",
            "  inflating: pdf/pdf with zoi/zoi_43.pdf  \n",
            "  inflating: pdf/pdf with zoi/zoi_44.pdf  \n",
            "  inflating: pdf/pdf with zoi/zoi_45.pdf  \n",
            "  inflating: pdf/pdf with zoi/zoi_46.pdf  \n",
            "  inflating: pdf/pdf with zoi/zoi_47.pdf  \n",
            "  inflating: pdf/pdf with zoi/zoi_48.pdf  \n",
            "  inflating: pdf/pdf with zoi/zoi_49.pdf  \n",
            "  inflating: pdf/pdf with zoi/zoi_5.pdf  \n",
            "  inflating: pdf/pdf with zoi/zoi_50.pdf  \n",
            "  inflating: pdf/pdf with zoi/zoi_6.pdf  \n",
            "  inflating: pdf/pdf with zoi/zoi_7.pdf  \n",
            "  inflating: pdf/pdf with zoi/zoi_8.pdf  \n",
            "  inflating: pdf/pdf with zoi/zoi_9.pdf  \n"
          ]
        }
      ]
    },
    {
      "cell_type": "code",
      "execution_count": 15,
      "metadata": {
        "id": "TitsCXZ1qSb-"
      },
      "outputs": [],
      "source": [
        "from pdf2image import convert_from_path\n",
        "import os\n",
        "import pytesseract\n",
        "import numpy as np\n",
        "import cv2 as cv\n",
        "import matplotlib.pyplot as plt\n",
        "try:\n",
        "    from PIL import Image\n",
        "except ImportError:\n",
        "    import Image\n",
        "import re"
      ]
    },
    {
      "cell_type": "markdown",
      "metadata": {
        "id": "5dWF3ytRqScC"
      },
      "source": [
        "### Transformation des fichiers pdf en Images"
      ]
    },
    {
      "cell_type": "code",
      "execution_count": 6,
      "metadata": {
        "id": "4bMY8IxxqScC"
      },
      "outputs": [],
      "source": [
        "def creation_images(dossier_traitement, dossier_destination, name=\"zoi\"):\n",
        "    \"\"\" \n",
        "    Convertit les fichiers pdf en images\n",
        "    \"\"\"\n",
        "    docs = os.listdir(dossier_traitement)\n",
        "    compteur = 0\n",
        "\n",
        "    for doc in docs:\n",
        "        converted_doc = convert_from_path(os.path.join(dossier_traitement, doc))\n",
        "        converted_doc[0].save(dossier_destination + \"/\" + name + \" \" + str(compteur) + \".jpeg\", \"JPEG\")\n",
        "        compteur+=1\n",
        "\n"
      ]
    },
    {
      "cell_type": "markdown",
      "metadata": {
        "id": "dBkfrMZgqScD"
      },
      "source": [
        "### Extraction de petites images contenant des portions de text"
      ]
    },
    {
      "cell_type": "code",
      "execution_count": 7,
      "metadata": {
        "id": "hbwpHFvHqScE"
      },
      "outputs": [],
      "source": [
        "def decomposition_img(lien_img):\n",
        "    img = cv.imread(lien_img)\n",
        "\n",
        "    #Phase de transformation\n",
        "    img_gray = cv.cvtColor(img, cv.COLOR_BGR2GRAY)\n",
        "    img_blur = cv.blur(img_gray, (33,33), 0)\n",
        "    ret, thresh = cv.threshold(img_blur, 220, 255, cv.THRESH_BINARY)\n",
        "    img_canny = cv.Canny(thresh,125,175)\n",
        "    dilated = cv.dilate(img_canny, (15,15), iterations=65)\n",
        "    dilated_blur = cv.blur(dilated, (15,15))\n",
        "\n",
        "    #Détection des contours\n",
        "    contours, hierarchies = cv.findContours(dilated_blur, cv.RETR_LIST, cv.CHAIN_APPROX_NONE)\n",
        "    contours = sorted(contours, key=cv.contourArea, reverse=True)\n",
        "\n",
        "    list_img = []\n",
        "    for idx in range(len(contours[:10])):\n",
        "\n",
        "        mask = np.zeros_like(img) # Create mask where white is what we want, black otherwise\n",
        "        cv.drawContours(mask, contours, idx, 255, -1) # Draw filled contour in mask\n",
        "        out = np.zeros_like(img) # Extract out the object and place into output image\n",
        "        out[mask == 255] = img[mask == 255]\n",
        "\n",
        "        # Now crop\n",
        "        y, x, _ = np.where(mask == 255)\n",
        "        (topy, topx) = (np.min(y), np.min(x))\n",
        "        (bottomy, bottomx) = (np.max(y), np.max(x))\n",
        "\n",
        "        if(bottomy - topy > 30) and (bottomx - topx > 30):\n",
        "\n",
        "            blank = np.zeros(img.shape[:2], dtype='uint8')\n",
        "            rectangle = cv.rectangle(blank.copy(), (topx, topy), (bottomx, bottomy), 255, -1)\n",
        "            out = cv.bitwise_and(img,img, mask=rectangle)\n",
        "            out = out[topy:bottomy+1, topx:bottomx+1]\n",
        "            img_gray_out = cv.cvtColor(out, cv.COLOR_BGR2GRAY)\n",
        "            list_img.append(img_gray_out)\n",
        "    \n",
        "    return list_img"
      ]
    },
    {
      "cell_type": "markdown",
      "metadata": {
        "id": "LJrFLKvxqScH"
      },
      "source": [
        "### Extraction des données textes des images"
      ]
    },
    {
      "cell_type": "code",
      "execution_count": 16,
      "metadata": {
        "id": "ykpJ5BAgqScI"
      },
      "outputs": [],
      "source": [
        "def image_to_csv_tesseract(dossier_traitement, label, headerLine = True):\n",
        "\n",
        "    csv_str = \"Text;nbcaracteres;label\\n\" if headerLine else \"\"\n",
        "    docs = os.listdir(dossier_traitement)\n",
        "\n",
        "    total = len(docs)\n",
        "    done = 0\n",
        "    for doc in docs:\n",
        "        text = pytesseract.image_to_string(Image.open(os.path.join(dossier_traitement, doc)))\n",
        "        text = re.sub(r\";+\", \" \", text)\n",
        "        text = re.sub(r\"\\s+\", \" \", text)\n",
        "        csv_str += f\"{text};{len(text)};{label}\\n\"\n",
        "        if done % 10 == 0:\n",
        "            print(f\"{done}/{total}\", end=\"=========\")\n",
        "        done += 1\n",
        "    \n",
        "    return csv_str\n",
        "        "
      ]
    },
    {
      "cell_type": "code",
      "execution_count": 46,
      "metadata": {
        "id": "ZmTZoby9qScJ"
      },
      "outputs": [],
      "source": [
        "def image_to_csv_opencv(dossier_traitement, label, headerLine = True):\n",
        "\n",
        "    csv_str = \"Text;nbcaracteres;label\\n\" if headerLine else \"\"\n",
        "    docs = os.listdir(dossier_traitement)\n",
        "\n",
        "    total = len(docs)\n",
        "    done = 0\n",
        "    for doc in docs:\n",
        "        list_img = decomposition_img(os.path.join(dossier_traitement, doc))\n",
        "        text = \"\"\n",
        "        for img in list_img:\n",
        "            text += pytesseract.image_to_string(img) + \" \"\n",
        "        text = re.sub(r\";+\", \" \", text)\n",
        "        text = re.sub(r\"\\s+\", \" \", text)\n",
        "        csv_str += f\"{text};{len(text)};{label}\\n\"\n",
        "        if done % 10 == 0:\n",
        "            print(f\"{done}/{total}\", end=\"=========\")\n",
        "        done += 1\n",
        "\n",
        "    return csv_str\n",
        "        "
      ]
    },
    {
      "cell_type": "markdown",
      "metadata": {
        "id": "2BQEBrQyqScK"
      },
      "source": [
        "## Pipeline de traitrement"
      ]
    },
    {
      "cell_type": "code",
      "execution_count": 20,
      "metadata": {
        "id": "a39qM_GHqScK"
      },
      "outputs": [],
      "source": [
        "def extraction_tesseract(pdf_files_dir = \"../data/pdf\", img_files_dir = \"../data/img\", csv_file_path = \"../data/dataset_tesseract.csv\", headerLine = True):\n",
        "\n",
        "    #   Conversion des pdf en images\n",
        "    zoi_path = img_files_dir + \"/img_with_zoi\"\n",
        "    no_zoi_path = img_files_dir + \"/img_no_zoi\"\n",
        "    if not os.path.isdir(img_files_dir):\n",
        "        os.makedirs(zoi_path, exist_ok=True)\n",
        "        os.makedirs(no_zoi_path, exist_ok=True)\n",
        "        creation_images(pdf_files_dir + \"/pdf_with_zoi\", zoi_path, \"zoi\")\n",
        "        creation_images(pdf_files_dir + \"/pdf_no_zoi\", no_zoi_path, \"no_zoi\")\n",
        "\n",
        "    \n",
        "    csv_data_tesseract = image_to_csv_tesseract(zoi_path, 1)\n",
        "    csv_data_tesseract += image_to_csv_tesseract(no_zoi_path, 0, False)\n",
        "\n",
        "    with open(csv_file_path, \"w\") as f:\n",
        "        f.write(csv_data_tesseract)"
      ]
    },
    {
      "cell_type": "code",
      "execution_count": 28,
      "metadata": {
        "id": "M4alvwpFqScL"
      },
      "outputs": [],
      "source": [
        "extraction_tesseract(\"pdf\", \"img\", \"dataset_tesseract.csv\")"
      ]
    },
    {
      "cell_type": "code",
      "execution_count": 32,
      "metadata": {
        "id": "wzIT1zbsqScL"
      },
      "outputs": [],
      "source": [
        "def extraction_opencv(pdf_files_dir = \"../data/pdf\", img_files_dir = \"../data/img\", csv_file_path = \"../data/dataset_opencv.csv\"):\n",
        "\n",
        "    #   Conversion des pdf en images\n",
        "    zoi_path = img_files_dir + \"/img_with_zoi\"\n",
        "    no_zoi_path = img_files_dir + \"/img_no_zoi\"\n",
        "    if not os.path.isdir(img_files_dir):\n",
        "        os.makedirs(zoi_path, exist_ok=True)\n",
        "        os.makedirs(no_zoi_path, exist_ok=True)\n",
        "        creation_images(pdf_files_dir + \"/pdf_with_zoi\", zoi_path, \"zoi\")\n",
        "        creation_images(pdf_files_dir + \"/pdf_no_zoi\", no_zoi_path, \"no_zoi\")\n",
        "\n",
        "    csv_data_opencv = image_to_csv_opencv(zoi_path, 1)\n",
        "    csv_data_opencv += image_to_csv_opencv(no_zoi_path, 0, False)\n",
        "\n",
        "    with open(csv_file_path, \"w\") as f:\n",
        "        f.write(csv_data_opencv)"
      ]
    },
    {
      "cell_type": "code",
      "source": [
        "extraction_opencv(\"pdf\", \"img\", \"dataset_opencv.csv\")"
      ],
      "metadata": {
        "colab": {
          "base_uri": "https://localhost:8080/"
        },
        "id": "3cYfn7vx4-u-",
        "outputId": "b82d9463-76ba-41f4-85ec-2c7133adedbf"
      },
      "execution_count": 47,
      "outputs": [
        {
          "output_type": "stream",
          "name": "stdout",
          "text": [
            "0/50=========10/50=========20/50=========30/50=========40/50=========0/100=========10/100=========20/100=========30/100=========40/100=========50/100=========60/100=========70/100=========80/100=========90/100========="
          ]
        }
      ]
    }
  ],
  "metadata": {
    "interpreter": {
      "hash": "640af6eb355a7b08a2b727ca046c87ed7bfe7ecdbbcf10c1a3d600ccb14e3e43"
    },
    "kernelspec": {
      "display_name": "Python 3.9.10 64-bit ('data_challenge': venv)",
      "language": "python",
      "name": "python3"
    },
    "language_info": {
      "codemirror_mode": {
        "name": "ipython",
        "version": 3
      },
      "file_extension": ".py",
      "mimetype": "text/x-python",
      "name": "python",
      "nbconvert_exporter": "python",
      "pygments_lexer": "ipython3",
      "version": "3.9.10"
    },
    "orig_nbformat": 4,
    "colab": {
      "name": "data_extraction.ipynb",
      "provenance": [],
      "collapsed_sections": []
    }
  },
  "nbformat": 4,
  "nbformat_minor": 0
}